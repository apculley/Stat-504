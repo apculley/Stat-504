{
 "cells": [
  {
   "cell_type": "markdown",
   "metadata": {},
   "source": [
    "# STAT 504 Fall 2015\n",
    "\n",
    "Homework #3 <br/>\n",
    "Amanda Culley"
   ]
  },
  {
   "cell_type": "markdown",
   "metadata": {},
   "source": [
    "Conduct a data analysis for the above two Data Sets #1 and #2 using all you have learned in the semester to cleanup, build, and  compare/contrast the performance (10-CV with AUC- measure) of various models (including variables/features selections, Null, 1) NB, 2) knn, 3) logistic regression, 4) SVM Polynomial kernel, 5) SVM Gaussian kernel, 6) Tree, 7) Bagging, 8) Random Forest, 9) Noisy Replications Ensembling, 10) plus one feasible model of your choice which was not covered in class). Overlay all model ROC curves in one figure for the same data set, with a legend key. Discuss your modeling process, interesting findings, and conclusions.\n",
    "\n",
    "Specifics:\n",
    "\n",
    "Use 10CV mAUC measure to find the optimal model hyper-parameters.\n",
    "For SVM, do both the polynomial and Gaussian kernel with the optimal model hyper-meters\n",
    "For Ensembling, do Bagging, Random Forest, and Noisy Replications.\n",
    "Measure and report the execution time for running each of these 10 models in Python. "
   ]
  },
  {
   "cell_type": "markdown",
   "metadata": {},
   "source": [
    "I haven't been able to finish running the code on time, so here are some of the results, with no parameter optimization, and all of the code.  I'll post the rest of the results, and a conclusion section once it's all finished running."
   ]
  },
  {
   "cell_type": "markdown",
   "metadata": {},
   "source": [
    "# Strong Data Set"
   ]
  },
  {
   "cell_type": "markdown",
   "metadata": {},
   "source": [
    "## Data loading/processing"
   ]
  },
  {
   "cell_type": "code",
   "execution_count": 29,
   "metadata": {
    "collapsed": false
   },
   "outputs": [
    {
     "name": "stderr",
     "output_type": "stream",
     "text": [
      "/home/thyme/anaconda3/lib/python3.5/site-packages/pandas/core/common.py:449: FutureWarning: elementwise comparison failed; returning scalar instead, but in the future will perform elementwise comparison\n",
      "  mask = arr == x\n"
     ]
    }
   ],
   "source": [
    "import pandas as pd\n",
    "import numpy as np\n",
    "import time\n",
    "import matplotlib.pyplot as plt\n",
    "%matplotlib inline\n",
    "from sklearn.cross_validation import cross_val_score\n",
    "import warnings\n",
    "warnings.filterwarnings(\"ignore\", category=DeprecationWarning)\n",
    "\n",
    "data=pd.read_csv('/home/thyme/StatAnalytics/Strong.csv')\n",
    "data=data.iloc[:,0:338]\n",
    "\n",
    "filter = data[\"FelRecidYr3\"] != \" \"\n",
    "data = data[filter]\n",
    "\n",
    "data=data.replace(' ','NaN')\n",
    "felrec=data['FelRecidYr3'].astype(float)\n",
    "X=data.drop('FelRecidYr3', axis=1)"
   ]
  },
  {
   "cell_type": "markdown",
   "metadata": {},
   "source": [
    "## Feature Selection"
   ]
  },
  {
   "cell_type": "code",
   "execution_count": 30,
   "metadata": {
    "collapsed": true
   },
   "outputs": [],
   "source": [
    "from sklearn.feature_selection import SelectPercentile, chi2, f_classif, SelectKBest\n",
    "X=SelectKBest(chi2, k=50).fit_transform(X, felrec)\n",
    "from sklearn.cross_validation import train_test_split\n",
    "X_train, X_test, y_train, y_test = train_test_split(X, felrec, random_state=1234567)"
   ]
  },
  {
   "cell_type": "markdown",
   "metadata": {},
   "source": [
    "## Naive Bayes"
   ]
  },
  {
   "cell_type": "code",
   "execution_count": null,
   "metadata": {
    "collapsed": true
   },
   "outputs": [],
   "source": [
    "start = time.time()\n",
    "\n",
    "from sklearn.naive_bayes import MultinomialNB\n",
    "nb = MultinomialNB()\n",
    "nb.fit(X_train, y_train)\n",
    "y_pred_prob_nb = nb.predict_proba(X_test)[:, 1]\n",
    "\n",
    "nbscores = cross_val_score(nb, X, felrec, cv=10, scoring='roc_auc')\n",
    "nbscores\n",
    "nbauc=nbscores.mean()\n",
    "\n",
    "end = time.time()\n",
    "nbtime=end-start"
   ]
  },
  {
   "cell_type": "markdown",
   "metadata": {},
   "source": [
    "## Logistic Regression"
   ]
  },
  {
   "cell_type": "code",
   "execution_count": 32,
   "metadata": {
    "collapsed": true
   },
   "outputs": [],
   "source": [
    "start = time.time()\n",
    "from sklearn.linear_model import LogisticRegression\n",
    "logreg = LogisticRegression()\n",
    "logreg.fit(X_train, y_train)\n",
    "y_pred_prob_log = logreg.predict_proba(X_test)[:, 1]\n",
    "\n",
    "logscores = cross_val_score(logreg, X, felrec, cv=10, scoring='roc_auc')\n",
    "logscores\n",
    "logauc=logscores.mean()\n",
    "end = time.time()\n",
    "logtime=end-start"
   ]
  },
  {
   "cell_type": "markdown",
   "metadata": {},
   "source": [
    "# KNN"
   ]
  },
  {
   "cell_type": "markdown",
   "metadata": {},
   "source": [
    "### Optimize hyper-parameter"
   ]
  },
  {
   "cell_type": "code",
   "execution_count": 8,
   "metadata": {
    "collapsed": false
   },
   "outputs": [
    {
     "name": "stdout",
     "output_type": "stream",
     "text": [
      "[0.57145679737792177, 0.61405064307699209, 0.63395799427458444, 0.64878518710511524, 0.65839327079695809, 0.66750348715379071, 0.67337898301598842, 0.67947990767391608, 0.68424950294010412, 0.68745433182138682, 0.6909655621848223, 0.69394493604489316, 0.69724521506279125, 0.69957712035429576, 0.70036634862166802, 0.70282498530826931, 0.70543173543683035, 0.70721735536247388, 0.70822808438952589, 0.70982237809686199, 0.71165485090988656, 0.71243844165135894, 0.71377744109042995, 0.71512499264845952, 0.71593512703926343, 0.71735201616907474, 0.71848847167341623, 0.71921320648421738, 0.71924219076795937, 0.71995260230441871, 0.7214006929460608, 0.72135074966433643, 0.72221671979264102, 0.7227111147482278, 0.72330835342987343, 0.72297090627475491, 0.72362547097796415, 0.72420350245801457, 0.72472886011066928, 0.72528683678956229, 0.72523729399085135, 0.72569014344244365, 0.72623108657528135, 0.72701579849669207, 0.72719289427853595, 0.72728537155743822, 0.72687212815342805, 0.72742463990125295, 0.72782539767730126]\n"
     ]
    }
   ],
   "source": [
    "start = time.time()\n",
    "from sklearn.neighbors import KNeighborsClassifier\n",
    "\n",
    "k_range = range(1, 50)\n",
    "k_scores = []\n",
    "for k in k_range:\n",
    "    knn = KNeighborsClassifier(n_neighbors=k)\n",
    "    scores = cross_val_score(knn, X, felrec, cv=10, scoring='roc_auc')\n",
    "    k_scores.append(scores.mean())\n",
    "\n",
    "end = time.time()\n",
    "knn_n_time=end-start"
   ]
  },
  {
   "cell_type": "code",
   "execution_count": 14,
   "metadata": {
    "collapsed": false
   },
   "outputs": [
    {
     "name": "stdout",
     "output_type": "stream",
     "text": [
      "4.8952053262790045\n"
     ]
    },
    {
     "data": {
      "image/png": "[encoded data removed]",
      "text/plain": [
       "<matplotlib.figure.Figure at 0x7f6e4154cfd0>"
      ]
     },
     "metadata": {},
     "output_type": "display_data"
    }
   ],
   "source": [
    "%matplotlib inline\n",
    "plt.plot(k_range, k_scores)\n",
    "plt.xlabel('n_neighbors')\n",
    "plt.ylabel('AUC')"
   ]
  },
  {
   "cell_type": "markdown",
   "metadata": {},
   "source": [
    "### Run Model"
   ]
  },
  {
   "cell_type": "code",
   "execution_count": 55,
   "metadata": {
    "collapsed": false
   },
   "outputs": [],
   "source": [
    "start = time.time()\n",
    "knn = KNeighborsClassifier(n_neighbors=50)\n",
    "knn.fit(X_train, y_train)\n",
    "y_pred_prob_knn = knn.predict_proba(X_test)[:, 1]\n",
    "knnscores = cross_val_score(knn, X, felrec, cv=10, scoring='roc_auc')\n",
    "knnscores\n",
    "knn_auc=knnscores.mean()\n",
    "end = time.time()\n",
    "knn_time=end-start\n",
    "#knn_time=knn_n_time + knn_m_time"
   ]
  },
  {
   "cell_type": "markdown",
   "metadata": {},
   "source": [
    "## SVC Gaussian Kernel"
   ]
  },
  {
   "cell_type": "markdown",
   "metadata": {},
   "source": [
    "### Optimize hyper-parameters"
   ]
  },
  {
   "cell_type": "code",
   "execution_count": null,
   "metadata": {
    "collapsed": true
   },
   "outputs": [],
   "source": [
    "start = time.time()\n",
    "C_range = np.logspace(-2, 10, 13)\n",
    "gamma_range = np.logspace(-9, 3, 13)\n",
    "from sklearn.cross_validation import StratifiedShuffleSplit\n",
    "param_grid = dict(gamma=gamma_range, C=C_range)\n",
    "cv = StratifiedShuffleSplit(felrec, n_iter=5, test_size=0.2, random_state=42)\n",
    "from sklearn.grid_search import GridSearchCV\n",
    "from sklearn.svm import SVC\n",
    "grid = GridSearchCV(SVC(random_state=1), param_grid=param_grid, cv=cv)\n",
    "grid.fit(X, felrec)\n",
    "\n",
    "print(\"The best parameters are %s with a score of %0.2f\"\n",
    "      % (grid.best_params_, grid.best_score_))\n",
    "end = time.time()\n",
    "svcg_p_time=end-start"
   ]
  },
  {
   "cell_type": "markdown",
   "metadata": {},
   "source": [
    "### Run Model"
   ]
  },
  {
   "cell_type": "code",
   "execution_count": null,
   "metadata": {
    "collapsed": true
   },
   "outputs": [],
   "source": [
    "start = time.time()\n",
    "clf = SVC(C=?, gamma=?, kernel='rbf', random_state=1, probability=True)\n",
    "clf.fit(X_train,y_train)\n",
    "y_pred_prob_svcg = clf.predict_proba(X_test)[:, 1]\n",
    "svcgscores = cross_val_score(clf, X, felrec, cv=10, scoring='roc_auc')\n",
    "svcgscores\n",
    "svcg_auc=svcgscores.mean()\n",
    "end = time.time()\n",
    "svcg_m_time=end-start\n",
    "svcg_time=svcg_p_time + svcg_m_time"
   ]
  },
  {
   "cell_type": "markdown",
   "metadata": {},
   "source": [
    "## SVC Polynomial Kernel"
   ]
  },
  {
   "cell_type": "markdown",
   "metadata": {},
   "source": [
    "### Optimize hyper-parameters"
   ]
  },
  {
   "cell_type": "code",
   "execution_count": null,
   "metadata": {
    "collapsed": true
   },
   "outputs": [],
   "source": [
    "start = time.time()\n",
    "C_range = np.logspace(-2, 10, 13)\n",
    "degree_range = np.logspace(-3, 2, 13)\n",
    "from sklearn.cross_validation import StratifiedShuffleSplit\n",
    "param_grid = dict(gamma=gamma_range, C=C_range)\n",
    "cv = StratifiedShuffleSplit(felrec, n_iter=5, test_size=0.2, random_state=42)\n",
    "\n",
    "from sklearn.grid_search import GridSearchCV\n",
    "from sklearn.svm import SVC\n",
    "grid = GridSearchCV(SVC(kernel='poly', random_state=1),param_grid=param_grid, cv=cv)\n",
    "grid.fit(X, felrec)\n",
    "\n",
    "print(\"The best parameters are %s with a score of %0.2f\"\n",
    "      % (grid.best_params_, grid.best_score_))\n",
    "end = time.time()\n",
    "svcp_p_time=end-start"
   ]
  },
  {
   "cell_type": "markdown",
   "metadata": {},
   "source": [
    "### Run Model"
   ]
  },
  {
   "cell_type": "code",
   "execution_count": null,
   "metadata": {
    "collapsed": false,
    "scrolled": true
   },
   "outputs": [],
   "source": [
    "start = time.time()\n",
    "from sklearn.svm import SVC\n",
    "clf = SVC( kernel='poly', random_state=1, probability=True)\n",
    "clf.fit(X_train,y_train)\n",
    "y_pred_prob_svcp = clf.predict_proba(X_test)[:, 1]\n",
    "svcgscores = cross_val_score(clf, X, felrec, cv=10, scoring='roc_auc')\n",
    "svcgscores\n",
    "svcp_auc=svcgscores.mean()\n",
    "end = time.time()\n",
    "svcp_m_time=end-start\n",
    "svcp_time=svcp_p_time + svcp_m_time"
   ]
  },
  {
   "cell_type": "markdown",
   "metadata": {},
   "source": [
    "## Decision Tree"
   ]
  },
  {
   "cell_type": "code",
   "execution_count": 34,
   "metadata": {
    "collapsed": false
   },
   "outputs": [],
   "source": [
    "start = time.time()\n",
    "from sklearn.tree import DecisionTreeClassifier\n",
    "treeclf = DecisionTreeClassifier(random_state=1)\n",
    "treeclf.fit(X_train,y_train)\n",
    "y_pred_prob_tree = treeclf.predict_proba(X_test)[:, 1]\n",
    "treescores = cross_val_score(treeclf, X, felrec, cv=10, scoring='roc_auc')\n",
    "treescores\n",
    "tree_auc=treescores.mean()\n",
    "end = time.time()\n",
    "tree_time=end-start"
   ]
  },
  {
   "cell_type": "markdown",
   "metadata": {},
   "source": [
    "## Bagged Decision Tree"
   ]
  },
  {
   "cell_type": "markdown",
   "metadata": {},
   "source": [
    "### Optimize hyper-parameter"
   ]
  },
  {
   "cell_type": "code",
   "execution_count": null,
   "metadata": {
    "collapsed": false
   },
   "outputs": [],
   "source": [
    "start = time.time()\n",
    "from sklearn.ensemble import BaggingClassifier\n",
    "potential_n = range(10, 410, 50)\n",
    "Accuracy_scores = []\n",
    "for n in potential_n:\n",
    "    bagclass = BaggingClassifier(treeclf,n_estimators=n, random_state=1)\n",
    "    scores = cross_val_score(bagclass, X, felrec, cv=10, scoring='roc_auc')\n",
    "    Accuracy_scores.append(scores.mean())\n",
    "\n",
    "end = time.time()\n",
    "bag_p_time=end-start"
   ]
  },
  {
   "cell_type": "code",
   "execution_count": null,
   "metadata": {
    "collapsed": true
   },
   "outputs": [],
   "source": [
    "plt.plot(potential_n, Accuracy_scores)\n",
    "plt.xlabel('n_estimators')\n",
    "plt.ylabel('AUC')"
   ]
  },
  {
   "cell_type": "markdown",
   "metadata": {},
   "source": [
    "### Run Model"
   ]
  },
  {
   "cell_type": "code",
   "execution_count": 37,
   "metadata": {
    "collapsed": false
   },
   "outputs": [],
   "source": [
    "start = time.time()\n",
    "bagging=BaggingClassifier(treeclf, random_state=1)\n",
    "bagging.fit(X_train,y_train)\n",
    "y_pred_prob_bag = bagging.predict_proba(X_test)[:, 1]\n",
    "bagscores = cross_val_score(bagging, X, felrec, cv=10, scoring='roc_auc')\n",
    "bagscores\n",
    "bag_auc=bagscores.mean()\n",
    "end = time.time()\n",
    "bag_time=end-start\n",
    "#bag_time=bag_p_time + bag_m_time"
   ]
  },
  {
   "cell_type": "markdown",
   "metadata": {},
   "source": [
    "## Random Forest"
   ]
  },
  {
   "cell_type": "markdown",
   "metadata": {},
   "source": [
    "### Optimize hyper-parameter"
   ]
  },
  {
   "cell_type": "code",
   "execution_count": null,
   "metadata": {
    "collapsed": true
   },
   "outputs": [],
   "source": [
    "start = time.time()\n",
    "from sklearn.ensemble import RandomForestClassifier\n",
    "rfclf = RandomForestClassifier()\n",
    "\n",
    "potential_n = range(10, 210, 10)\n",
    "Accuracy_scores = []\n",
    "for n in potential_n:\n",
    "    rfclass = RandomForestClassifier(n_estimators=n, random_state=1)\n",
    "    scores = cross_val_score(rfclass, X, felrec, cv=10, scoring='roc_auc')\n",
    "    Accuracy_scores.append(scores.mean())\n",
    "\n",
    "import matplotlib.pyplot as plt\n",
    "plt.plot(potential_n, Accuracy_scores)\n",
    "plt.xlabel('n_estimators')\n",
    "plt.ylabel('Accuracy')\n",
    "end = time.time()\n",
    "random_p1_time=end-start"
   ]
  },
  {
   "cell_type": "code",
   "execution_count": null,
   "metadata": {
    "collapsed": true
   },
   "outputs": [],
   "source": [
    "start = time.time()\n",
    "feature_range = range(1, len(X.columns)+1)\n",
    "Accuracy_scores = []\n",
    "\n",
    "for feature in feature_range:\n",
    "    rfclass = RandomForestClassifier(n_estimators=?, max_features=feature, random_state=1)\n",
    "    scores = cross_val_score(rfclass, X, felrec, cv=10, scoring='roc_auc')\n",
    "    Accuracy_scores.append(scores.mean())\n",
    "\n",
    "plt.plot(feature_range, Accuracy_scores)\n",
    "plt.xlabel('max_features')\n",
    "plt.ylabel('AUC')\n",
    "end = time.time()\n",
    "random_p2_time=end-start"
   ]
  },
  {
   "cell_type": "markdown",
   "metadata": {},
   "source": [
    "### Run Model"
   ]
  },
  {
   "cell_type": "code",
   "execution_count": 42,
   "metadata": {
    "collapsed": false
   },
   "outputs": [],
   "source": [
    "start = time.time()\n",
    "from sklearn.ensemble import RandomForestClassifier\n",
    "rfclass=RandomForestClassifier(random_state=1)\n",
    "rfclass.fit(X_train,y_train)\n",
    "y_pred_prob_random = rfclass.predict_proba(X_test)[:, 1]\n",
    "from sklearn.cross_validation import cross_val_score\n",
    "rfscores = cross_val_score(rfclass, X, felrec, cv=10, scoring='roc_auc')\n",
    "rfscores\n",
    "random_auc=rfscores.mean()\n",
    "end = time.time()\n",
    "random_time=end-start\n",
    "#random_time=random_p1_time + random_p2_time + random_m_time"
   ]
  },
  {
   "cell_type": "markdown",
   "metadata": {},
   "source": [
    "# Results"
   ]
  },
  {
   "cell_type": "markdown",
   "metadata": {},
   "source": [
    "## AUC/Time"
   ]
  },
  {
   "cell_type": "code",
   "execution_count": 58,
   "metadata": {
    "collapsed": false
   },
   "outputs": [
    {
     "name": "stdout",
     "output_type": "stream",
     "text": [
      "Null AUC: 0.5\n",
      "Naive Bayes AUC: 0.597059248654\n",
      "  Time: 0.35590028762817383\n",
      "Logistic Regression AUC: 0.735355839334\n",
      "  Time: 5.759443283081055\n",
      "K nearest neighbors AUC: 0.725146945716\n",
      "  Time: 76.34874820709229\n",
      "Decision Tree AUC: 0.56986260936\n",
      "  Time: 2.7879180908203125\n",
      "Bagged Decision Tree AUC: 0.67790065302\n",
      "  Time: 17.000075578689575\n",
      "Random Forest AUC: 0.684032800712\n",
      "  Time: 3.2394182682037354\n"
     ]
    }
   ],
   "source": [
    "print ('Null AUC: ' + str(.5))\n",
    "print ('Naive Bayes AUC: ' + str(nbauc) + '\\n  Time: ' + str(nbtime))\n",
    "print ('Logistic Regression AUC: ' + str(logauc) + '\\n  Time: ' + str(logtime))\n",
    "print ('K nearest neighbors AUC: ' + str(knn_auc)  + '\\n  Time: ' + str(knn_time))\n",
    "#print ('Gaussian SVC AUC: ' + str(svcg_auc) + '\\n  Time: ' + str(svcg_time))\n",
    "#print ('Polynomial SVC AUC: ' + str(svcp_auc) + '\\n  Time: ' + str(svcp_time))\n",
    "print ('Decision Tree AUC: ' + str(tree_auc)  + '\\n  Time: ' + str(tree_time))\n",
    "print ('Bagged Decision Tree AUC: ' + str(bag_auc) + '\\n  Time: ' + str(bag_time))\n",
    "print ('Random Forest AUC: ' + str(random_auc)  + '\\n  Time: ' + str(random_time))"
   ]
  },
  {
   "cell_type": "markdown",
   "metadata": {},
   "source": [
    "## Roc curves"
   ]
  },
  {
   "cell_type": "code",
   "execution_count": 62,
   "metadata": {
    "collapsed": false
   },
   "outputs": [
    {
     "data": {
      "text/plain": [
       "<matplotlib.legend.Legend at 0x7f82249a3fd0>"
      ]
     },
     "execution_count": 62,
     "metadata": {},
     "output_type": "execute_result"
    },
    {
     "data": {
      "image/png": "[encoded data removed]",
      "text/plain": [
       "<matplotlib.figure.Figure at 0x7f82262cc5c0>"
      ]
     },
     "metadata": {},
     "output_type": "display_data"
    }
   ],
   "source": [
    "%matplotlib inline\n",
    "import matplotlib.lines as mlines\n",
    "import matplotlib.pyplot as plt\n",
    "from sklearn import metrics\n",
    "fpr_nb, tpr_nb, thresholds = metrics.roc_curve(y_test, y_pred_prob_nb)\n",
    "plt.plot(fpr_nb, tpr_nb, color='purple')\n",
    "fpr_log, tpr_log, thresholds = metrics.roc_curve(y_test, y_pred_prob_log)\n",
    "plt.plot(fpr_log, tpr_log, color='orange')\n",
    "fpr_knn, tpr_knn, thresholds = metrics.roc_curve(y_test, y_pred_prob_knn)\n",
    "plt.plot(fpr_knn, tpr_knn, color='red')\n",
    "#fpr_svcg, tpr_svcg, thresholds = metrics.roc_curve(y_test, y_pred_prob_svcg)\n",
    "#plt.plot(fpr_svcg, tpr_svcg, color='turquoise')\n",
    "#fpr_svcp, tpr_svcp, thresholds = metrics.roc_curve(y_test, y_pred_prob_svcp)\n",
    "#plt.plot(fpr_svcp, tpr_svcp, color='pink')\n",
    "fpr_tree, tpr_tree, thresholds = metrics.roc_curve(y_test, y_pred_prob_tree)\n",
    "plt.plot(fpr_tree, tpr_tree, color='green')\n",
    "fpr_bag, tpr_bag, thresholds = metrics.roc_curve(y_test, y_pred_prob_bag)\n",
    "plt.plot(fpr_tree, tpr_tree, color='yellow')\n",
    "fpr_bag, tpr_bag, thresholds = metrics.roc_curve(y_test, y_pred_prob_random)\n",
    "plt.plot(fpr_bag, tpr_bag, color='black')\n",
    "plt.xlim([0.0, 1.0])\n",
    "plt.ylim([0.0, 1.0])\n",
    "plt.xlabel('False Positive Rate (1 - Specificity)')\n",
    "plt.ylabel('True Positive Rate (Sensitivity)')\n",
    "log_line = mlines.Line2D([], [], color='orange', label='Logistic Regression')\n",
    "knn_line = mlines.Line2D([], [], color='red', label='k-Nearest Neighbors')\n",
    "tree_line = mlines.Line2D([], [], color='green', label='Classification Tree')\n",
    "nb_line = mlines.Line2D([], [], color='purple', label='Naive Bayes')\n",
    "svcg_line = mlines.Line2D([], [], color='turquoise', label='SVC, Gaussian')\n",
    "svcp_line = mlines.Line2D([], [], color='pink', label='SVC, Polynomial')\n",
    "bag_line = mlines.Line2D([], [], color='yellow', label='Bagged Decision Tree')\n",
    "random_line = mlines.Line2D([], [], color='black', label='Random Forest')\n",
    "\n",
    "plt.legend(handles=[log_line, knn_line, tree_line,nb_line,svcg_line,svcp_line,bag_line,random_line], loc=4)"
   ]
  },
  {
   "cell_type": "markdown",
   "metadata": {},
   "source": [
    "# Music Data Set"
   ]
  },
  {
   "cell_type": "markdown",
   "metadata": {},
   "source": [
    "## Data loading/processing"
   ]
  },
  {
   "cell_type": "code",
   "execution_count": 64,
   "metadata": {
    "collapsed": false
   },
   "outputs": [],
   "source": [
    "import pandas as pd\n",
    "import json\n",
    "with open('/home/thyme/Stat-504/HW_3/music.json', 'rU') as f:\n",
    "    data = [json.loads(row) for row in f]\n",
    "    data2 = pd.DataFrame(data)\n",
    "\n",
    "music_best_worst = data2[(data2.overall==5) | (data2.overall==1)]\n",
    "\n",
    "\n",
    "from sklearn.cross_validation import train_test_split\n",
    "X_train, X_test, y_train, y_test = train_test_split(music_best_worst, music_best_worst.overall, random_state=1234567)\n",
    "\n",
    "\n",
    "#Pull out review text, vectorize\n",
    "from sklearn.feature_extraction.text import CountVectorizer\n",
    "vect = CountVectorizer(max_features=1000)\n",
    "train_dtm = vect.fit_transform(X_train.reviewText)\n",
    "test_dtm = vect.fit_transform(X_test.reviewText)\n",
    "dtm=vect.fit_transform(music_best_worst.reviewText)\n",
    "\n",
    "#roc_auc_score will get confused if y_test contains fives and ones, so you will need to create a new object that contains ones and zeros instead.\n",
    "import numpy as np\n",
    "y_test_binary = np.where(y_test==5, 1, 0)\n",
    "y_train_binary = np.where(y_train==5, 1, 0)\n",
    "y_binary=np.where(music_best_worst.overall==5,1,0)"
   ]
  },
  {
   "cell_type": "markdown",
   "metadata": {},
   "source": [
    "## Naive Bayes"
   ]
  },
  {
   "cell_type": "code",
   "execution_count": 65,
   "metadata": {
    "collapsed": true
   },
   "outputs": [],
   "source": [
    "start = time.time()\n",
    "\n",
    "from sklearn.naive_bayes import MultinomialNB\n",
    "nb = MultinomialNB()\n",
    "nb.fit(train_dtm, y_train)\n",
    "y_pred_prob_nb = nb.predict_proba(test_dtm)[:, 1]\n",
    "\n",
    "nbscores = cross_val_score(nb, dtm, y_binary, cv=10, scoring='roc_auc')\n",
    "nbscores\n",
    "nbauc2=nbscores.mean()\n",
    "\n",
    "end = time.time()\n",
    "nbtime2=end-start"
   ]
  },
  {
   "cell_type": "markdown",
   "metadata": {},
   "source": [
    "## Logistic Regression"
   ]
  },
  {
   "cell_type": "code",
   "execution_count": 66,
   "metadata": {
    "collapsed": false
   },
   "outputs": [],
   "source": [
    "start = time.time()\n",
    "from sklearn.linear_model import LogisticRegression\n",
    "logreg = LogisticRegression(random_state=1)\n",
    "logreg.fit(train_dtm, y_train)\n",
    "y_pred_prob_log = logreg.predict_proba(test_dtm)[:, 1]\n",
    "\n",
    "logscores = cross_val_score(logreg, dtm, y_binary, cv=10, scoring='roc_auc')\n",
    "logscores\n",
    "logauc2=logscores.mean()\n",
    "end = time.time()\n",
    "logtime2=end-start"
   ]
  },
  {
   "cell_type": "markdown",
   "metadata": {},
   "source": [
    "## KNN"
   ]
  },
  {
   "cell_type": "markdown",
   "metadata": {},
   "source": [
    "### Optimize Hyperparameter "
   ]
  },
  {
   "cell_type": "code",
   "execution_count": null,
   "metadata": {
    "collapsed": true
   },
   "outputs": [],
   "source": [
    "start = time.time()\n",
    "from sklearn.neighbors import KNeighborsClassifier\n",
    "\n",
    "k_range = range(1, 50)\n",
    "k_scores = []\n",
    "for k in k_range:\n",
    "    knn = KNeighborsClassifier(n_neighbors=k)\n",
    "    scores = cross_val_score(knn, dtm, y_binary, cv=10, scoring='roc_auc')\n",
    "    k_scores.append(scores.mean())\n",
    "print (k_scores)\n",
    "\n",
    "end = time.time()\n",
    "knn_n_time=end-start"
   ]
  },
  {
   "cell_type": "code",
   "execution_count": null,
   "metadata": {
    "collapsed": true
   },
   "outputs": [],
   "source": [
    "%matplotlib inline\n",
    "plt.plot(k_range, k_scores)\n",
    "plt.xlabel('n_neighbors')\n",
    "plt.ylabel('AUC')"
   ]
  },
  {
   "cell_type": "markdown",
   "metadata": {},
   "source": [
    "### Run Model"
   ]
  },
  {
   "cell_type": "code",
   "execution_count": null,
   "metadata": {
    "collapsed": false
   },
   "outputs": [],
   "source": [
    "start = time.time()\n",
    "from sklearn.neighbors import KNeighborsClassifier\n",
    "knn = KNeighborsClassifier(n_neighbors=5, random_state=1)\n",
    "knn.fit(train_dtm, y_train)\n",
    "y_pred_prob_knn =knn.predict_proba(test_dtm)[:, 1]\n",
    "knnscores = cross_val_score(knn, dtm, y_binary, cv=10, scoring='roc_auc')\n",
    "knnscores\n",
    "knn_auc2=knnscores.mean()\n",
    "end = time.time()\n",
    "knn_time2=end-start\n",
    "#knn_time=knn_n_time + knn_m_time"
   ]
  },
  {
   "cell_type": "markdown",
   "metadata": {},
   "source": [
    "## Decision Tree"
   ]
  },
  {
   "cell_type": "code",
   "execution_count": 78,
   "metadata": {
    "collapsed": false
   },
   "outputs": [],
   "source": [
    "start = time.time()\n",
    "from sklearn.tree import DecisionTreeClassifier\n",
    "treeclf = DecisionTreeClassifier(random_state=1)\n",
    "treeclf.fit(train_dtm, y_train)\n",
    "y_pred_prob_tree = treeclf.predict_proba(test_dtm)[:, 1]\n",
    "treescores = cross_val_score(treeclf, dtm, y_binary, cv=10, scoring='roc_auc')\n",
    "treescores\n",
    "tree_auc2=treescores.mean()\n",
    "end = time.time()\n",
    "tree_time2=end-start"
   ]
  },
  {
   "cell_type": "markdown",
   "metadata": {},
   "source": [
    "## Bagged Decision Trees"
   ]
  },
  {
   "cell_type": "markdown",
   "metadata": {},
   "source": [
    "### Hyperparameter optimization"
   ]
  },
  {
   "cell_type": "code",
   "execution_count": null,
   "metadata": {
    "collapsed": false
   },
   "outputs": [],
   "source": [
    "start = time.time()\n",
    "from sklearn.ensemble import BaggingClassifier\n",
    "potential_n = range(10, 410, 50)\n",
    "Accuracy_scores = []\n",
    "for n in potential_n:\n",
    "    bagclass = BaggingClassifier(treeclf,n_estimators=n, random_state=1)\n",
    "    scores = cross_val_score(bagclass, dtm, y_binary, cv=10, scoring='roc_auc')\n",
    "    Accuracy_scores.append(scores.mean())\n",
    "    end = time.time()\n",
    "bag_p_time=end-start"
   ]
  },
  {
   "cell_type": "code",
   "execution_count": null,
   "metadata": {
    "collapsed": false
   },
   "outputs": [],
   "source": [
    "import matplotlib.pyplot as plt\n",
    "plt.plot(potential_n, Accuracy_scores)\n",
    "plt.xlabel('n_estimators')\n",
    "plt.ylabel('AUC')"
   ]
  },
  {
   "cell_type": "markdown",
   "metadata": {},
   "source": [
    "### Run Model"
   ]
  },
  {
   "cell_type": "code",
   "execution_count": 26,
   "metadata": {
    "collapsed": false
   },
   "outputs": [],
   "source": [
    "start = time.time()\n",
    "from sklearn.ensemble import BaggingClassifier\n",
    "bagging=BaggingClassifier(treeclf, random_state=1)\n",
    "bagging.fit(train_dtm, y_train)\n",
    "y_pred_prob_bag = bagging.predict_proba(test_dtm)[:, 1]\n",
    "bagscores = cross_val_score(bagging, dtm, y_binary, cv=10, scoring='roc_auc')\n",
    "bagscores\n",
    "bag_auc2=bagscores.mean()\n",
    "end = time.time()\n",
    "bag_time2=end-start\n",
    "#bag_time=bag_p_time + bag_m_time"
   ]
  },
  {
   "cell_type": "markdown",
   "metadata": {},
   "source": [
    "## Random Forest"
   ]
  },
  {
   "cell_type": "markdown",
   "metadata": {},
   "source": [
    "### Hyperparameter optimization"
   ]
  },
  {
   "cell_type": "code",
   "execution_count": null,
   "metadata": {
    "collapsed": true
   },
   "outputs": [],
   "source": [
    "start = time.time()\n",
    "from sklearn.ensemble import RandomForestClassifier\n",
    "rfclf = RandomForestClassifier()\n",
    "\n",
    "potential_n = range(10, 410, 50)\n",
    "Accuracy_scores = []\n",
    "for n in potential_n:\n",
    "    rfclass = RandomForestClassifier(n_estimators=n, random_state=1)\n",
    "    scores = cross_val_score(rfclass, dtm, y_binary, cv=10, scoring='roc_auc')\n",
    "    Accuracy_scores.append(scores.mean())\n",
    "\n",
    "    end = time.time()\n",
    "random_p1_time=end-start"
   ]
  },
  {
   "cell_type": "code",
   "execution_count": null,
   "metadata": {
    "collapsed": true
   },
   "outputs": [],
   "source": [
    "plt.plot(potential_n, Accuracy_scores)\n",
    "plt.xlabel('n_estimators')\n",
    "plt.ylabel('Accuracy')"
   ]
  },
  {
   "cell_type": "code",
   "execution_count": null,
   "metadata": {
    "collapsed": true
   },
   "outputs": [],
   "source": [
    "start = time.time()\n",
    "feature_range = range(1, len(dtm.columns)+1)\n",
    "Accuracy_scores = []\n",
    "\n",
    "for feature in feature_range:\n",
    "    rfclass = RandomForestClassifier(n_estimators=?, max_features=feature, random_state=1)\n",
    "    scores = cross_val_score(rfclass, dtm, y_binary, cv=10, scoring='roc_auc')\n",
    "    Accuracy_scores.append(scores.mean())\n",
    "\n",
    "\n",
    "end = time.time()\n",
    "random_p2_time=end-start"
   ]
  },
  {
   "cell_type": "code",
   "execution_count": null,
   "metadata": {
    "collapsed": true
   },
   "outputs": [],
   "source": [
    "plt.plot(feature_range, Accuracy_scores)\n",
    "plt.xlabel('max_features')\n",
    "plt.ylabel('AUC')"
   ]
  },
  {
   "cell_type": "code",
   "execution_count": null,
   "metadata": {
    "collapsed": false
   },
   "outputs": [],
   "source": [
    "start = time.time()\n",
    "rfclass=RandomForestCLassifier(n_estimators=?, max_features=?, random_state=1)\n",
    "rfclass.fit(train_dtm, y_train)\n",
    "y_pred_prob_random = rfclass.predict_proba(test_dtm)[:, 1]\n",
    "from sklearn.cross_validation import cross_val_score\n",
    "rfscores = cross_val_score(rfclass, dtm, y_binary, cv=10, scoring='roc_auc')\n",
    "rfscores\n",
    "random_auc2=rfscores.mean()\n",
    "end = time.time()\n",
    "random_m_time=end-start\n",
    "random_time2=random_p1_time + random_p2_time + random_m_time"
   ]
  },
  {
   "cell_type": "markdown",
   "metadata": {},
   "source": [
    "## SVC Gaussian"
   ]
  },
  {
   "cell_type": "markdown",
   "metadata": {},
   "source": [
    "### Hyperparameter Optimization"
   ]
  },
  {
   "cell_type": "code",
   "execution_count": null,
   "metadata": {
    "collapsed": true
   },
   "outputs": [],
   "source": [
    "start = time.time()\n",
    "C_range = np.logspace(-2, 10, 13)\n",
    "gamma_range = np.logspace(-9, 3, 13)\n",
    "from sklearn.cross_validation import StratifiedShuffleSplit\n",
    "param_grid = dict(gamma=gamma_range, C=C_range)\n",
    "cv = StratifiedShuffleSplit(y_binary, n_iter=5, test_size=0.2, random_state=42)\n",
    "from sklearn.grid_search import GridSearchCV\n",
    "from sklearn.svm import SVC\n",
    "grid = GridSearchCV(SVC(), param_grid=param_grid, cv=cv)\n",
    "grid.fit(dtm, y_binary)\n",
    "\n",
    "print(\"The best parameters are %s with a score of %0.2f\"\n",
    "      % (grid.best_params_, grid.best_score_))\n",
    "end = time.time()\n",
    "svcg_p_time=end-start"
   ]
  },
  {
   "cell_type": "markdown",
   "metadata": {},
   "source": [
    "### Run Model "
   ]
  },
  {
   "cell_type": "code",
   "execution_count": null,
   "metadata": {
    "collapsed": true
   },
   "outputs": [],
   "source": [
    "start = time.time()\n",
    "clf = SVC(C=?, gamma=?, kernel='rbf')\n",
    "clf.fit(train_dtm, y_train)\n",
    "y_pred_prob_svcg = clf.predict_proba(test_dtm)[:, 1]\n",
    "svcgscores = cross_val_score(clf, dtm, y_binary, cv=10, scoring='roc_auc')\n",
    "svcgscores\n",
    "svcg_auc2=svcgscores.mean()\n",
    "end = time.time()\n",
    "svcg_m_time=end-start\n",
    "svcg_time2=svcg_p_time + svcg_m_time"
   ]
  },
  {
   "cell_type": "markdown",
   "metadata": {},
   "source": [
    "## SVC Polynomial"
   ]
  },
  {
   "cell_type": "markdown",
   "metadata": {},
   "source": [
    "### Hyperparameter Optimization"
   ]
  },
  {
   "cell_type": "code",
   "execution_count": null,
   "metadata": {
    "collapsed": true
   },
   "outputs": [],
   "source": [
    "start = time.time()\n",
    "C_range = np.logspace(-2, 10, 13)\n",
    "degree_range = np.logspace(-3, 2, 13)\n",
    "from sklearn.cross_validation import StratifiedShuffleSplit\n",
    "param_grid = dict(gamma=gamma_range, C=C_range)\n",
    "cv = StratifiedShuffleSplit(y_binary, n_iter=5, test_size=0.2, random_state=42)\n",
    "\n",
    "from sklearn.grid_search import GridSearchCV\n",
    "from sklearn.svm import SVC\n",
    "grid = GridSearchCV(SVC(kernel='poly'),param_grid=param_grid, cv=cv)\n",
    "grid.fit(dtm, y_binary)\n",
    "\n",
    "print(\"The best parameters are %s with a score of %0.2f\"\n",
    "      % (grid.best_params_, grid.best_score_))\n",
    "end = time.time()\n",
    "svcp_p_time=end-start"
   ]
  },
  {
   "cell_type": "markdown",
   "metadata": {},
   "source": [
    "### Run Model"
   ]
  },
  {
   "cell_type": "code",
   "execution_count": null,
   "metadata": {
    "collapsed": true
   },
   "outputs": [],
   "source": [
    "start = time.time()\n",
    "clf = SVC(C=?, degree=?, kernel='poly')\n",
    "clf.fit(train_dtm, y_train)\n",
    "y_pred_prob_svcp = clf.predict_proba(test_dtm)[:, 1]\n",
    "svcgscores = cross_val_score(clf, dtm, y_binary, cv=10, scoring='roc_auc')\n",
    "svcgscores\n",
    "svcp_auc2=svcgscores.mean()\n",
    "end = time.time()\n",
    "svcp_m_time=end-start\n",
    "svcp_time2=svcp_p_time + svcp_m_time"
   ]
  },
  {
   "cell_type": "markdown",
   "metadata": {},
   "source": [
    "# Results"
   ]
  },
  {
   "cell_type": "markdown",
   "metadata": {},
   "source": [
    "## AUC/Time"
   ]
  },
  {
   "cell_type": "code",
   "execution_count": 79,
   "metadata": {
    "collapsed": false
   },
   "outputs": [
    {
     "name": "stdout",
     "output_type": "stream",
     "text": [
      "Null AUC: 0.5\n",
      "Naive Bayes AUC: 0.924050584143\n",
      "  Time: 1.3839786052703857\n",
      "Logistic Regression AUC: 0.952552833495\n",
      "  Time: 79.41671013832092\n",
      "Decision Tree AUC: 0.683768126111\n",
      "  Time: 1220.2283408641815\n"
     ]
    }
   ],
   "source": [
    "print ('Null AUC: ' + str(.5))\n",
    "print ('Naive Bayes AUC: ' + str(nbauc2) + '\\n  Time: ' + str(nbtime2))\n",
    "print ('Logistic Regression AUC: ' + str(logauc2) + '\\n  Time: ' + str(logtime2))\n",
    "#print ('K nearest neighbors AUC: ' + str(knn_auc2)  + '\\n  Time: ' + str(knn_time2))\n",
    "#print ('Gaussian SVC AUC: ' + str(svcg_auc2) + '\\n  Time: ' + str(svcg_time2))\n",
    "#print ('Polynomial SVC AUC: ' + str(svcp_auc2) + '\\n  Time: ' + str(svcp_time2))\n",
    "print ('Decision Tree AUC: ' + str(tree_auc2)  + '\\n  Time: ' + str(tree_time2))\n",
    "#print ('Bagged Decision Tree AUC: ' + str(bag_auc2) + '\\n  Time: ' + str(bag_time2))\n",
    "#print ('Random Forest AUC: ' + str(random_auc2)  + '\\n  Time: ' + str(random_time2))"
   ]
  },
  {
   "cell_type": "markdown",
   "metadata": {},
   "source": [
    "## ROC Curves"
   ]
  },
  {
   "cell_type": "code",
   "execution_count": 84,
   "metadata": {
    "collapsed": false
   },
   "outputs": [
    {
     "data": {
      "text/plain": [
       "<matplotlib.legend.Legend at 0x7f82121d0c50>"
      ]
     },
     "execution_count": 84,
     "metadata": {},
     "output_type": "execute_result"
    },
    {
     "data": {
      "image/png": "[encoded data removed]",
      "text/plain": [
       "<matplotlib.figure.Figure at 0x7f82206e3438>"
      ]
     },
     "metadata": {},
     "output_type": "display_data"
    }
   ],
   "source": [
    "import matplotlib.pyplot as plt\n",
    "fpr_nb, tpr_nb, thresholds = metrics.roc_curve(y_test_binary, y_pred_prob_nb)\n",
    "plt.plot(fpr_nb, tpr_nb, color='purple')\n",
    "fpr_log, tpr_log, thresholds = metrics.roc_curve(y_test_binary, y_pred_prob_log)\n",
    "plt.plot(fpr_log, tpr_log, color='orange')\n",
    "#fpr_knn, tpr_knn, thresholds = metrics.roc_curve(y_test_binary, y_pred_prob_knn)\n",
    "#plt.plot(fpr_knn, tpr_knn, color='red')\n",
    "#fpr_svcg, tpr_svcg, thresholds = metrics.roc_curve(y_test_binary, y_pred_prob_svcg)\n",
    "#plt.plot(fpr_svcg, tpr_svcg, color='turquoise')\n",
    "#fpr_svcp, tpr_svcp, thresholds = metrics.roc_curve(y_test_binary, y_pred_prob_svcp)\n",
    "#plt.plot(fpr_svcp, tpr_svcp, color='pink')\n",
    "fpr_tree, tpr_tree, thresholds = metrics.roc_curve(y_test_binary, y_pred_prob_tree)\n",
    "plt.plot(fpr_tree, tpr_tree, color='green')\n",
    "#fpr_bag, tpr_bag, thresholds = metrics.roc_curve(y_test_binary, y_pred_prob_bag)\n",
    "#plt.plot(fpr_tree, tpr_tree, color='yellow')\n",
    "#fpr_bag, tpr_bag, thresholds = metrics.roc_curve(y_test_binary, y_pred_prob_random)\n",
    "#plt.plot(fpr_bag, tpr_bag, color='black')\n",
    "plt.xlim([0.0, 1.0])\n",
    "plt.ylim([0.0, 1.0])\n",
    "plt.xlabel('False Positive Rate (1 - Specificity)')\n",
    "plt.ylabel('True Positive Rate (Sensitivity)')\n",
    "log_line = mlines.Line2D([], [], color='orange', label='Logistic Regression')\n",
    "knn_line = mlines.Line2D([], [], color='red', label='k-Nearest Neighbors')\n",
    "tree_line = mlines.Line2D([], [], color='green', label='Classification Tree')\n",
    "nb_line = mlines.Line2D([], [], color='purple', label='Naive Bayes')\n",
    "svcg_line = mlines.Line2D([], [], color='turquoise', label='SVC, Gaussian')\n",
    "svcp_line = mlines.Line2D([], [], color='pink', label='SVC, Polynomial')\n",
    "bag_line = mlines.Line2D([], [], color='yellow', label='Bagged Decision Tree')\n",
    "random_line = mlines.Line2D([], [], color='black', label='Random Forest')\n",
    "\n",
    "plt.legend(handles=[log_line, knn_line, tree_line,nb_line,svcg_line,svcp_line,bag_line,random_line], loc=4)"
   ]
  },
  {
   "cell_type": "code",
   "execution_count": null,
   "metadata": {
    "collapsed": true
   },
   "outputs": [],
   "source": []
  }
 ],
 "metadata": {
  "kernelspec": {
   "display_name": "Python 3",
   "language": "python",
   "name": "python3"
  },
  "language_info": {
   "codemirror_mode": {
    "name": "ipython",
    "version": 3
   },
   "file_extension": ".py",
   "mimetype": "text/x-python",
   "name": "python",
   "nbconvert_exporter": "python",
   "pygments_lexer": "ipython3",
   "version": "3.5.0"
  }
 },
 "nbformat": 4,
 "nbformat_minor": 0
}
