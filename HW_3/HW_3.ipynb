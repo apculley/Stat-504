{
 "cells": [
  {
   "cell_type": "markdown",
   "metadata": {},
   "source": [
    "# STAT 504 Fall 2015\n",
    "\n",
    "Homework #3 <br/>\n",
    "Amanda Culley"
   ]
  },
  {
   "cell_type": "markdown",
   "metadata": {},
   "source": [
    "Conduct a data analysis for the above two Data Sets #1 and #2 using all you have learned in the semester to cleanup, build, and  compare/contrast the performance (10-CV with AUC- measure) of various models (including variables/features selections, Null, 1) NB, 2) knn, 3) logistic regression, 4) SVM Polynomial kernel, 5) SVM Gaussian kernel, 6) Tree, 7) Bagging, 8) Random Forest, 9) Noisy Replications Ensembling, 10) plus one feasible model of your choice which was not covered in class). Overlay all model ROC curves in one figure for the same data set, with a legend key. Discuss your modeling process, interesting findings, and conclusions.\n",
    "\n",
    "Specifics:\n",
    "\n",
    "Use 10CV mAUC measure to find the optimal model hyper-parameters.\n",
    "For SVM, do both the polynomial and Gaussian kernel with the optimal model hyper-meters\n",
    "For Ensembling, do Bagging, Random Forest, and Noisy Replications.\n",
    "Measure and report the execution time for running each of these 10 models in Python. "
   ]
  },
  {
   "cell_type": "markdown",
   "metadata": {},
   "source": [
    "I haven't been able to finish running the code on time, so here are some of the results, with no parameter optimization, and all of the code.  I'll post the rest of the results, and a conclusion section once it's all finished running."
   ]
  },
  {
   "cell_type": "markdown",
   "metadata": {},
   "source": [
    "# Strong Data Set"
   ]
  },
  {
   "cell_type": "markdown",
   "metadata": {},
   "source": [
    "## Data loading/processing"
   ]
  },
  {
   "cell_type": "code",
   "execution_count": 3,
   "metadata": {
    "collapsed": false
   },
   "outputs": [
    {
     "name": "stderr",
     "output_type": "stream",
     "text": [
      "/home/thyme/anaconda3/lib/python3.5/site-packages/pandas/core/common.py:449: FutureWarning: elementwise comparison failed; returning scalar instead, but in the future will perform elementwise comparison\n",
      "  mask = arr == x\n"
     ]
    }
   ],
   "source": [
    "import pandas as pd\n",
    "import numpy as np\n",
    "import time\n",
    "import matplotlib.pyplot as plt\n",
    "%matplotlib inline\n",
    "from sklearn.cross_validation import cross_val_score\n",
    "import warnings\n",
    "warnings.filterwarnings(\"ignore\", category=DeprecationWarning)\n",
    "\n",
    "data=pd.read_csv('/home/thyme/StatAnalytics/Strong.csv')\n",
    "data=data.iloc[:,0:338]\n",
    "\n",
    "filter = data[\"FelRecidYr3\"] != \" \"\n",
    "data = data[filter]\n",
    "\n",
    "data=data.replace(' ','NaN')\n",
    "felrec=data['FelRecidYr3'].astype(float)\n",
    "X=data.drop('FelRecidYr3', axis=1)"
   ]
  },
  {
   "cell_type": "markdown",
   "metadata": {},
   "source": [
    "## Feature Selection"
   ]
  },
  {
   "cell_type": "code",
   "execution_count": 89,
   "metadata": {
    "collapsed": true
   },
   "outputs": [],
   "source": [
    "from sklearn.feature_selection import SelectPercentile, chi2, f_classif, SelectKBest\n",
    "X=SelectKBest(chi2, k=50).fit_transform(X, felrec)\n",
    "from sklearn.cross_validation import train_test_split\n",
    "X_train, X_test, y_train, y_test = train_test_split(X, felrec, random_state=1234567)"
   ]
  },
  {
   "cell_type": "markdown",
   "metadata": {},
   "source": [
    "## Naive Bayes"
   ]
  },
  {
   "cell_type": "code",
   "execution_count": 119,
   "metadata": {
    "collapsed": true
   },
   "outputs": [],
   "source": [
    "start = time.time()\n",
    "\n",
    "from sklearn.naive_bayes import MultinomialNB\n",
    "nb = MultinomialNB()\n",
    "nb.fit(X_train, y_train)\n",
    "y_pred_prob_nb = nb.predict_proba(X_test)[:, 1]\n",
    "\n",
    "nbscores = cross_val_score(nb, X, felrec, cv=10, scoring='roc_auc')\n",
    "nbscores\n",
    "nbauc=nbscores.mean()\n",
    "\n",
    "end = time.time()\n",
    "nbtime=end-start"
   ]
  },
  {
   "cell_type": "markdown",
   "metadata": {},
   "source": [
    "## Logistic Regression"
   ]
  },
  {
   "cell_type": "code",
   "execution_count": 120,
   "metadata": {
    "collapsed": true
   },
   "outputs": [],
   "source": [
    "start = time.time()\n",
    "from sklearn.linear_model import LogisticRegression\n",
    "logreg = LogisticRegression()\n",
    "logreg.fit(X_train, y_train)\n",
    "y_pred_prob_log = logreg.predict_proba(X_test)[:, 1]\n",
    "\n",
    "logscores = cross_val_score(logreg, X, felrec, cv=10, scoring='roc_auc')\n",
    "logscores\n",
    "logauc=logscores.mean()\n",
    "end = time.time()\n",
    "logtime=end-start"
   ]
  },
  {
   "cell_type": "markdown",
   "metadata": {},
   "source": [
    "# KNN"
   ]
  },
  {
   "cell_type": "markdown",
   "metadata": {},
   "source": [
    "### Optimize hyper-parameter"
   ]
  },
  {
   "cell_type": "code",
   "execution_count": 98,
   "metadata": {
    "collapsed": false
   },
   "outputs": [],
   "source": [
    "start = time.time()\n",
    "from sklearn.neighbors import KNeighborsClassifier\n",
    "\n",
    "k_range = range(1, 60)\n",
    "k_scores = []\n",
    "for k in k_range:\n",
    "    knn = KNeighborsClassifier(n_neighbors=k)\n",
    "    scores = cross_val_score(knn, X, felrec, cv=10, scoring='roc_auc')\n",
    "    k_scores.append(scores.mean())\n",
    "\n",
    "end = time.time()\n",
    "knn_n_time=end-start"
   ]
  },
  {
   "cell_type": "code",
   "execution_count": 99,
   "metadata": {
    "collapsed": false
   },
   "outputs": [
    {
     "data": {
      "text/plain": [
       "<matplotlib.text.Text at 0x7f8224762fd0>"
      ]
     },
     "execution_count": 99,
     "metadata": {},
     "output_type": "execute_result"
    },
    {
     "data": {
      "image/png": "[encoded data removed]",
      "text/plain": [
       "<matplotlib.figure.Figure at 0x7f8220a660b8>"
      ]
     },
     "metadata": {},
     "output_type": "display_data"
    }
   ],
   "source": [
    "%matplotlib inline\n",
    "plt.plot(k_range, k_scores)\n",
    "plt.xlabel('n_neighbors')\n",
    "plt.ylabel('AUC')"
   ]
  },
  {
   "cell_type": "markdown",
   "metadata": {},
   "source": [
    "### Run Model"
   ]
  },
  {
   "cell_type": "code",
   "execution_count": 121,
   "metadata": {
    "collapsed": false
   },
   "outputs": [],
   "source": [
    "start = time.time()\n",
    "knn = KNeighborsClassifier(n_neighbors=50)\n",
    "knn.fit(X_train, y_train)\n",
    "y_pred_prob_knn = knn.predict_proba(X_test)[:, 1]\n",
    "knnscores = cross_val_score(knn, X, felrec, cv=10, scoring='roc_auc')\n",
    "knnscores\n",
    "knn_auc=knnscores.mean()\n",
    "end = time.time()\n",
    "knn_time=end-start\n",
    "knn_time=knn_n_time + knn_m_time"
   ]
  },
  {
   "cell_type": "markdown",
   "metadata": {},
   "source": [
    "## SVC Gaussian Kernel"
   ]
  },
  {
   "cell_type": "markdown",
   "metadata": {},
   "source": [
    "### Optimize hyper-parameters"
   ]
  },
  {
   "cell_type": "code",
   "execution_count": 85,
   "metadata": {
    "collapsed": false
   },
   "outputs": [
    {
     "ename": "KeyboardInterrupt",
     "evalue": "",
     "output_type": "error",
     "traceback": [
      "\u001b[1;31m---------------------------------------------------------------------------\u001b[0m",
      "\u001b[1;31mKeyboardInterrupt\u001b[0m                         Traceback (most recent call last)",
      "\u001b[1;32m<ipython-input-85-33122775d972>\u001b[0m in \u001b[0;36m<module>\u001b[1;34m()\u001b[0m\n\u001b[0;32m      8\u001b[0m \u001b[1;32mfrom\u001b[0m \u001b[0msklearn\u001b[0m\u001b[1;33m.\u001b[0m\u001b[0msvm\u001b[0m \u001b[1;32mimport\u001b[0m \u001b[0mSVC\u001b[0m\u001b[1;33m\u001b[0m\u001b[0m\n\u001b[0;32m      9\u001b[0m \u001b[0mgrid\u001b[0m \u001b[1;33m=\u001b[0m \u001b[0mGridSearchCV\u001b[0m\u001b[1;33m(\u001b[0m\u001b[0mSVC\u001b[0m\u001b[1;33m(\u001b[0m\u001b[0mrandom_state\u001b[0m\u001b[1;33m=\u001b[0m\u001b[1;36m1\u001b[0m\u001b[1;33m)\u001b[0m\u001b[1;33m,\u001b[0m \u001b[0mparam_grid\u001b[0m\u001b[1;33m=\u001b[0m\u001b[0mparam_grid\u001b[0m\u001b[1;33m,\u001b[0m \u001b[0mcv\u001b[0m\u001b[1;33m=\u001b[0m\u001b[0mcv\u001b[0m\u001b[1;33m)\u001b[0m\u001b[1;33m\u001b[0m\u001b[0m\n\u001b[1;32m---> 10\u001b[1;33m \u001b[0mgrid\u001b[0m\u001b[1;33m.\u001b[0m\u001b[0mfit\u001b[0m\u001b[1;33m(\u001b[0m\u001b[0mX\u001b[0m\u001b[1;33m,\u001b[0m \u001b[0mfelrec\u001b[0m\u001b[1;33m)\u001b[0m\u001b[1;33m\u001b[0m\u001b[0m\n\u001b[0m\u001b[0;32m     11\u001b[0m \u001b[1;33m\u001b[0m\u001b[0m\n\u001b[0;32m     12\u001b[0m print(\"The best parameters are %s with a score of %0.2f\"\n",
      "\u001b[1;32m/home/thyme/anaconda3/lib/python3.5/site-packages/sklearn/grid_search.py\u001b[0m in \u001b[0;36mfit\u001b[1;34m(self, X, y)\u001b[0m\n\u001b[0;32m    730\u001b[0m \u001b[1;33m\u001b[0m\u001b[0m\n\u001b[0;32m    731\u001b[0m         \"\"\"\n\u001b[1;32m--> 732\u001b[1;33m         \u001b[1;32mreturn\u001b[0m \u001b[0mself\u001b[0m\u001b[1;33m.\u001b[0m\u001b[0m_fit\u001b[0m\u001b[1;33m(\u001b[0m\u001b[0mX\u001b[0m\u001b[1;33m,\u001b[0m \u001b[0my\u001b[0m\u001b[1;33m,\u001b[0m \u001b[0mParameterGrid\u001b[0m\u001b[1;33m(\u001b[0m\u001b[0mself\u001b[0m\u001b[1;33m.\u001b[0m\u001b[0mparam_grid\u001b[0m\u001b[1;33m)\u001b[0m\u001b[1;33m)\u001b[0m\u001b[1;33m\u001b[0m\u001b[0m\n\u001b[0m\u001b[0;32m    733\u001b[0m \u001b[1;33m\u001b[0m\u001b[0m\n\u001b[0;32m    734\u001b[0m \u001b[1;33m\u001b[0m\u001b[0m\n",
      "\u001b[1;32m/home/thyme/anaconda3/lib/python3.5/site-packages/sklearn/grid_search.py\u001b[0m in \u001b[0;36m_fit\u001b[1;34m(self, X, y, parameter_iterable)\u001b[0m\n\u001b[0;32m    503\u001b[0m                                     \u001b[0mself\u001b[0m\u001b[1;33m.\u001b[0m\u001b[0mfit_params\u001b[0m\u001b[1;33m,\u001b[0m \u001b[0mreturn_parameters\u001b[0m\u001b[1;33m=\u001b[0m\u001b[1;32mTrue\u001b[0m\u001b[1;33m,\u001b[0m\u001b[1;33m\u001b[0m\u001b[0m\n\u001b[0;32m    504\u001b[0m                                     error_score=self.error_score)\n\u001b[1;32m--> 505\u001b[1;33m                 \u001b[1;32mfor\u001b[0m \u001b[0mparameters\u001b[0m \u001b[1;32min\u001b[0m \u001b[0mparameter_iterable\u001b[0m\u001b[1;33m\u001b[0m\u001b[0m\n\u001b[0m\u001b[0;32m    506\u001b[0m                 for train, test in cv)\n\u001b[0;32m    507\u001b[0m \u001b[1;33m\u001b[0m\u001b[0m\n",
      "\u001b[1;32m/home/thyme/anaconda3/lib/python3.5/site-packages/sklearn/externals/joblib/parallel.py\u001b[0m in \u001b[0;36m__call__\u001b[1;34m(self, iterable)\u001b[0m\n\u001b[0;32m    657\u001b[0m             \u001b[0mself\u001b[0m\u001b[1;33m.\u001b[0m\u001b[0m_iterating\u001b[0m \u001b[1;33m=\u001b[0m \u001b[1;32mTrue\u001b[0m\u001b[1;33m\u001b[0m\u001b[0m\n\u001b[0;32m    658\u001b[0m             \u001b[1;32mfor\u001b[0m \u001b[0mfunction\u001b[0m\u001b[1;33m,\u001b[0m \u001b[0margs\u001b[0m\u001b[1;33m,\u001b[0m \u001b[0mkwargs\u001b[0m \u001b[1;32min\u001b[0m \u001b[0miterable\u001b[0m\u001b[1;33m:\u001b[0m\u001b[1;33m\u001b[0m\u001b[0m\n\u001b[1;32m--> 659\u001b[1;33m                 \u001b[0mself\u001b[0m\u001b[1;33m.\u001b[0m\u001b[0mdispatch\u001b[0m\u001b[1;33m(\u001b[0m\u001b[0mfunction\u001b[0m\u001b[1;33m,\u001b[0m \u001b[0margs\u001b[0m\u001b[1;33m,\u001b[0m \u001b[0mkwargs\u001b[0m\u001b[1;33m)\u001b[0m\u001b[1;33m\u001b[0m\u001b[0m\n\u001b[0m\u001b[0;32m    660\u001b[0m \u001b[1;33m\u001b[0m\u001b[0m\n\u001b[0;32m    661\u001b[0m             \u001b[1;32mif\u001b[0m \u001b[0mpre_dispatch\u001b[0m \u001b[1;33m==\u001b[0m \u001b[1;34m\"all\"\u001b[0m \u001b[1;32mor\u001b[0m \u001b[0mn_jobs\u001b[0m \u001b[1;33m==\u001b[0m \u001b[1;36m1\u001b[0m\u001b[1;33m:\u001b[0m\u001b[1;33m\u001b[0m\u001b[0m\n",
      "\u001b[1;32m/home/thyme/anaconda3/lib/python3.5/site-packages/sklearn/externals/joblib/parallel.py\u001b[0m in \u001b[0;36mdispatch\u001b[1;34m(self, func, args, kwargs)\u001b[0m\n\u001b[0;32m    404\u001b[0m         \"\"\"\n\u001b[0;32m    405\u001b[0m         \u001b[1;32mif\u001b[0m \u001b[0mself\u001b[0m\u001b[1;33m.\u001b[0m\u001b[0m_pool\u001b[0m \u001b[1;32mis\u001b[0m \u001b[1;32mNone\u001b[0m\u001b[1;33m:\u001b[0m\u001b[1;33m\u001b[0m\u001b[0m\n\u001b[1;32m--> 406\u001b[1;33m             \u001b[0mjob\u001b[0m \u001b[1;33m=\u001b[0m \u001b[0mImmediateApply\u001b[0m\u001b[1;33m(\u001b[0m\u001b[0mfunc\u001b[0m\u001b[1;33m,\u001b[0m \u001b[0margs\u001b[0m\u001b[1;33m,\u001b[0m \u001b[0mkwargs\u001b[0m\u001b[1;33m)\u001b[0m\u001b[1;33m\u001b[0m\u001b[0m\n\u001b[0m\u001b[0;32m    407\u001b[0m             \u001b[0mindex\u001b[0m \u001b[1;33m=\u001b[0m \u001b[0mlen\u001b[0m\u001b[1;33m(\u001b[0m\u001b[0mself\u001b[0m\u001b[1;33m.\u001b[0m\u001b[0m_jobs\u001b[0m\u001b[1;33m)\u001b[0m\u001b[1;33m\u001b[0m\u001b[0m\n\u001b[0;32m    408\u001b[0m             \u001b[1;32mif\u001b[0m \u001b[1;32mnot\u001b[0m \u001b[0m_verbosity_filter\u001b[0m\u001b[1;33m(\u001b[0m\u001b[0mindex\u001b[0m\u001b[1;33m,\u001b[0m \u001b[0mself\u001b[0m\u001b[1;33m.\u001b[0m\u001b[0mverbose\u001b[0m\u001b[1;33m)\u001b[0m\u001b[1;33m:\u001b[0m\u001b[1;33m\u001b[0m\u001b[0m\n",
      "\u001b[1;32m/home/thyme/anaconda3/lib/python3.5/site-packages/sklearn/externals/joblib/parallel.py\u001b[0m in \u001b[0;36m__init__\u001b[1;34m(self, func, args, kwargs)\u001b[0m\n\u001b[0;32m    138\u001b[0m         \u001b[1;31m# Don't delay the application, to avoid keeping the input\u001b[0m\u001b[1;33m\u001b[0m\u001b[1;33m\u001b[0m\u001b[0m\n\u001b[0;32m    139\u001b[0m         \u001b[1;31m# arguments in memory\u001b[0m\u001b[1;33m\u001b[0m\u001b[1;33m\u001b[0m\u001b[0m\n\u001b[1;32m--> 140\u001b[1;33m         \u001b[0mself\u001b[0m\u001b[1;33m.\u001b[0m\u001b[0mresults\u001b[0m \u001b[1;33m=\u001b[0m \u001b[0mfunc\u001b[0m\u001b[1;33m(\u001b[0m\u001b[1;33m*\u001b[0m\u001b[0margs\u001b[0m\u001b[1;33m,\u001b[0m \u001b[1;33m**\u001b[0m\u001b[0mkwargs\u001b[0m\u001b[1;33m)\u001b[0m\u001b[1;33m\u001b[0m\u001b[0m\n\u001b[0m\u001b[0;32m    141\u001b[0m \u001b[1;33m\u001b[0m\u001b[0m\n\u001b[0;32m    142\u001b[0m     \u001b[1;32mdef\u001b[0m \u001b[0mget\u001b[0m\u001b[1;33m(\u001b[0m\u001b[0mself\u001b[0m\u001b[1;33m)\u001b[0m\u001b[1;33m:\u001b[0m\u001b[1;33m\u001b[0m\u001b[0m\n",
      "\u001b[1;32m/home/thyme/anaconda3/lib/python3.5/site-packages/sklearn/cross_validation.py\u001b[0m in \u001b[0;36m_fit_and_score\u001b[1;34m(estimator, X, y, scorer, train, test, verbose, parameters, fit_params, return_train_score, return_parameters, error_score)\u001b[0m\n\u001b[0;32m   1457\u001b[0m             \u001b[0mestimator\u001b[0m\u001b[1;33m.\u001b[0m\u001b[0mfit\u001b[0m\u001b[1;33m(\u001b[0m\u001b[0mX_train\u001b[0m\u001b[1;33m,\u001b[0m \u001b[1;33m**\u001b[0m\u001b[0mfit_params\u001b[0m\u001b[1;33m)\u001b[0m\u001b[1;33m\u001b[0m\u001b[0m\n\u001b[0;32m   1458\u001b[0m         \u001b[1;32melse\u001b[0m\u001b[1;33m:\u001b[0m\u001b[1;33m\u001b[0m\u001b[0m\n\u001b[1;32m-> 1459\u001b[1;33m             \u001b[0mestimator\u001b[0m\u001b[1;33m.\u001b[0m\u001b[0mfit\u001b[0m\u001b[1;33m(\u001b[0m\u001b[0mX_train\u001b[0m\u001b[1;33m,\u001b[0m \u001b[0my_train\u001b[0m\u001b[1;33m,\u001b[0m \u001b[1;33m**\u001b[0m\u001b[0mfit_params\u001b[0m\u001b[1;33m)\u001b[0m\u001b[1;33m\u001b[0m\u001b[0m\n\u001b[0m\u001b[0;32m   1460\u001b[0m \u001b[1;33m\u001b[0m\u001b[0m\n\u001b[0;32m   1461\u001b[0m     \u001b[1;32mexcept\u001b[0m \u001b[0mException\u001b[0m \u001b[1;32mas\u001b[0m \u001b[0me\u001b[0m\u001b[1;33m:\u001b[0m\u001b[1;33m\u001b[0m\u001b[0m\n",
      "\u001b[1;32m/home/thyme/anaconda3/lib/python3.5/site-packages/sklearn/svm/base.py\u001b[0m in \u001b[0;36mfit\u001b[1;34m(self, X, y, sample_weight)\u001b[0m\n\u001b[0;32m    176\u001b[0m \u001b[1;33m\u001b[0m\u001b[0m\n\u001b[0;32m    177\u001b[0m         \u001b[0mseed\u001b[0m \u001b[1;33m=\u001b[0m \u001b[0mrnd\u001b[0m\u001b[1;33m.\u001b[0m\u001b[0mrandint\u001b[0m\u001b[1;33m(\u001b[0m\u001b[0mnp\u001b[0m\u001b[1;33m.\u001b[0m\u001b[0miinfo\u001b[0m\u001b[1;33m(\u001b[0m\u001b[1;34m'i'\u001b[0m\u001b[1;33m)\u001b[0m\u001b[1;33m.\u001b[0m\u001b[0mmax\u001b[0m\u001b[1;33m)\u001b[0m\u001b[1;33m\u001b[0m\u001b[0m\n\u001b[1;32m--> 178\u001b[1;33m         \u001b[0mfit\u001b[0m\u001b[1;33m(\u001b[0m\u001b[0mX\u001b[0m\u001b[1;33m,\u001b[0m \u001b[0my\u001b[0m\u001b[1;33m,\u001b[0m \u001b[0msample_weight\u001b[0m\u001b[1;33m,\u001b[0m \u001b[0msolver_type\u001b[0m\u001b[1;33m,\u001b[0m \u001b[0mkernel\u001b[0m\u001b[1;33m,\u001b[0m \u001b[0mrandom_seed\u001b[0m\u001b[1;33m=\u001b[0m\u001b[0mseed\u001b[0m\u001b[1;33m)\u001b[0m\u001b[1;33m\u001b[0m\u001b[0m\n\u001b[0m\u001b[0;32m    179\u001b[0m         \u001b[1;31m# see comment on the other call to np.iinfo in this file\u001b[0m\u001b[1;33m\u001b[0m\u001b[1;33m\u001b[0m\u001b[0m\n\u001b[0;32m    180\u001b[0m \u001b[1;33m\u001b[0m\u001b[0m\n",
      "\u001b[1;32m/home/thyme/anaconda3/lib/python3.5/site-packages/sklearn/svm/base.py\u001b[0m in \u001b[0;36m_dense_fit\u001b[1;34m(self, X, y, sample_weight, solver_type, kernel, random_seed)\u001b[0m\n\u001b[0;32m    234\u001b[0m                 \u001b[0mcache_size\u001b[0m\u001b[1;33m=\u001b[0m\u001b[0mself\u001b[0m\u001b[1;33m.\u001b[0m\u001b[0mcache_size\u001b[0m\u001b[1;33m,\u001b[0m \u001b[0mcoef0\u001b[0m\u001b[1;33m=\u001b[0m\u001b[0mself\u001b[0m\u001b[1;33m.\u001b[0m\u001b[0mcoef0\u001b[0m\u001b[1;33m,\u001b[0m\u001b[1;33m\u001b[0m\u001b[0m\n\u001b[0;32m    235\u001b[0m                 \u001b[0mgamma\u001b[0m\u001b[1;33m=\u001b[0m\u001b[0mself\u001b[0m\u001b[1;33m.\u001b[0m\u001b[0m_gamma\u001b[0m\u001b[1;33m,\u001b[0m \u001b[0mepsilon\u001b[0m\u001b[1;33m=\u001b[0m\u001b[0mself\u001b[0m\u001b[1;33m.\u001b[0m\u001b[0mepsilon\u001b[0m\u001b[1;33m,\u001b[0m\u001b[1;33m\u001b[0m\u001b[0m\n\u001b[1;32m--> 236\u001b[1;33m                 max_iter=self.max_iter, random_seed=random_seed)\n\u001b[0m\u001b[0;32m    237\u001b[0m \u001b[1;33m\u001b[0m\u001b[0m\n\u001b[0;32m    238\u001b[0m         \u001b[0mself\u001b[0m\u001b[1;33m.\u001b[0m\u001b[0m_warn_from_fit_status\u001b[0m\u001b[1;33m(\u001b[0m\u001b[1;33m)\u001b[0m\u001b[1;33m\u001b[0m\u001b[0m\n",
      "\u001b[1;31mKeyboardInterrupt\u001b[0m: "
     ]
    }
   ],
   "source": [
    "start = time.time()\n",
    "C_range = np.logspace(-2, 10, 13)\n",
    "gamma_range = np.logspace(-9, 3, 13)\n",
    "from sklearn.cross_validation import StratifiedShuffleSplit\n",
    "param_grid = dict(gamma=gamma_range, C=C_range)\n",
    "cv = StratifiedShuffleSplit(felrec, n_iter=5, test_size=0.2, random_state=42)\n",
    "from sklearn.grid_search import GridSearchCV\n",
    "from sklearn.svm import SVC\n",
    "grid = GridSearchCV(SVC(random_state=1), param_grid=param_grid, cv=cv)\n",
    "grid.fit(X, felrec)\n",
    "\n",
    "print(\"The best parameters are %s with a score of %0.2f\"\n",
    "      % (grid.best_params_, grid.best_score_))\n",
    "end = time.time()\n",
    "svcg_p_time=end-start"
   ]
  },
  {
   "cell_type": "markdown",
   "metadata": {},
   "source": [
    "### Run Model"
   ]
  },
  {
   "cell_type": "code",
   "execution_count": 93,
   "metadata": {
    "collapsed": false
   },
   "outputs": [],
   "source": [
    "start = time.time()\n",
    "clf = SVC(kernel='rbf', random_state=1, probability=True)\n",
    "clf.fit(X_train,y_train)\n",
    "y_pred_prob_svcg = clf.predict_proba(X_test)[:, 1]\n",
    "svcgscores = cross_val_score(clf, X, felrec, cv=10, scoring='roc_auc')\n",
    "svcgscores\n",
    "svcg_auc=svcgscores.mean()\n",
    "end = time.time()\n",
    "svcg_m_time=end-start\n",
    "#svcg_time=svcg_p_time + svcg_m_time"
   ]
  },
  {
   "cell_type": "markdown",
   "metadata": {},
   "source": [
    "## SVC Polynomial Kernel"
   ]
  },
  {
   "cell_type": "markdown",
   "metadata": {},
   "source": [
    "### Optimize hyper-parameters"
   ]
  },
  {
   "cell_type": "code",
   "execution_count": null,
   "metadata": {
    "collapsed": true
   },
   "outputs": [],
   "source": [
    "start = time.time()\n",
    "C_range = np.logspace(-2, 10, 13)\n",
    "degree_range = np.logspace(-3, 2, 13)\n",
    "from sklearn.cross_validation import StratifiedShuffleSplit\n",
    "param_grid = dict(gamma=gamma_range, C=C_range)\n",
    "cv = StratifiedShuffleSplit(felrec, n_iter=5, test_size=0.2, random_state=42)\n",
    "\n",
    "from sklearn.grid_search import GridSearchCV\n",
    "from sklearn.svm import SVC\n",
    "grid = GridSearchCV(SVC(kernel='poly', random_state=1),param_grid=param_grid, cv=cv)\n",
    "grid.fit(X, felrec)\n",
    "\n",
    "print(\"The best parameters are %s with a score of %0.2f\"\n",
    "      % (grid.best_params_, grid.best_score_))\n",
    "end = time.time()\n",
    "svcp_p_time=end-start"
   ]
  },
  {
   "cell_type": "markdown",
   "metadata": {},
   "source": [
    "### Run Model"
   ]
  },
  {
   "cell_type": "code",
   "execution_count": 96,
   "metadata": {
    "collapsed": false,
    "scrolled": true
   },
   "outputs": [],
   "source": [
    "start = time.time()\n",
    "from sklearn.svm import SVC\n",
    "clf = SVC( kernel='poly', random_state=1, probability=True)\n",
    "clf.fit(X_train,y_train)\n",
    "y_pred_prob_svcp = clf.predict_proba(X_test)[:, 1]\n",
    "svcgscores = cross_val_score(clf, X, felrec, cv=10, scoring='roc_auc')\n",
    "svcgscores\n",
    "svcp_auc=svcgscores.mean()\n",
    "end = time.time()\n",
    "svcp_time=end-start\n",
    "#svcp_time=svcp_p_time + svcp_m_time"
   ]
  },
  {
   "cell_type": "markdown",
   "metadata": {},
   "source": [
    "## Decision Tree"
   ]
  },
  {
   "cell_type": "code",
   "execution_count": 124,
   "metadata": {
    "collapsed": false
   },
   "outputs": [],
   "source": [
    "start = time.time()\n",
    "from sklearn.tree import DecisionTreeClassifier\n",
    "treeclf = DecisionTreeClassifier(random_state=1)\n",
    "treeclf.fit(X_train,y_train)\n",
    "y_pred_prob_tree = treeclf.predict_proba(X_test)[:, 1]\n",
    "treescores = cross_val_score(treeclf, X, felrec, cv=10, scoring='roc_auc')\n",
    "treescores\n",
    "tree_auc=treescores.mean()\n",
    "end = time.time()\n",
    "tree_time=end-start"
   ]
  },
  {
   "cell_type": "markdown",
   "metadata": {},
   "source": [
    "## Bagged Decision Tree"
   ]
  },
  {
   "cell_type": "markdown",
   "metadata": {},
   "source": [
    "### Optimize hyper-parameter"
   ]
  },
  {
   "cell_type": "code",
   "execution_count": 100,
   "metadata": {
    "collapsed": false
   },
   "outputs": [],
   "source": [
    "start = time.time()\n",
    "from sklearn.ensemble import BaggingClassifier\n",
    "potential_n = range(10, 410, 50)\n",
    "Accuracy_scores = []\n",
    "for n in potential_n:\n",
    "    bagclass = BaggingClassifier(treeclf,n_estimators=n, random_state=1)\n",
    "    scores = cross_val_score(bagclass, X, felrec, cv=10, scoring='roc_auc')\n",
    "    Accuracy_scores.append(scores.mean())\n",
    "\n",
    "end = time.time()\n",
    "bag_p_time=end-start"
   ]
  },
  {
   "cell_type": "code",
   "execution_count": 101,
   "metadata": {
    "collapsed": false
   },
   "outputs": [
    {
     "data": {
      "text/plain": [
       "<matplotlib.text.Text at 0x7f822683b278>"
      ]
     },
     "execution_count": 101,
     "metadata": {},
     "output_type": "execute_result"
    },
    {
     "data": {
      "image/png": "[encoded data removed]",
      "text/plain": [
       "<matplotlib.figure.Figure at 0x7f82248e77b8>"
      ]
     },
     "metadata": {},
     "output_type": "display_data"
    }
   ],
   "source": [
    "plt.plot(potential_n, Accuracy_scores)\n",
    "plt.xlabel('n_estimators')\n",
    "plt.ylabel('AUC')"
   ]
  },
  {
   "cell_type": "markdown",
   "metadata": {},
   "source": [
    "### Run Model"
   ]
  },
  {
   "cell_type": "code",
   "execution_count": 103,
   "metadata": {
    "collapsed": false
   },
   "outputs": [],
   "source": [
    "start = time.time()\n",
    "bagging=BaggingClassifier(treeclf,n_estimators=100, random_state=1)\n",
    "bagging.fit(X_train,y_train)\n",
    "y_pred_prob_bag = bagging.predict_proba(X_test)[:, 1]\n",
    "bagscores = cross_val_score(bagging, X, felrec, cv=10, scoring='roc_auc')\n",
    "bagscores\n",
    "bag_auc=bagscores.mean()\n",
    "end = time.time()\n",
    "bag_time=end-start\n",
    "bag_time=bag_p_time + bag_m_time"
   ]
  },
  {
   "cell_type": "markdown",
   "metadata": {},
   "source": [
    "## Random Forest"
   ]
  },
  {
   "cell_type": "markdown",
   "metadata": {},
   "source": [
    "### Optimize hyper-parameter"
   ]
  },
  {
   "cell_type": "code",
   "execution_count": 104,
   "metadata": {
    "collapsed": true
   },
   "outputs": [],
   "source": [
    "start = time.time()\n",
    "from sklearn.ensemble import RandomForestClassifier\n",
    "rfclf = RandomForestClassifier()\n",
    "\n",
    "potential_n = range(10, 410, 50)\n",
    "Accuracy_scores = []\n",
    "for n in potential_n:\n",
    "    rfclass = RandomForestClassifier(n_estimators=n, random_state=1)\n",
    "    scores = cross_val_score(rfclass, X, felrec, cv=10, scoring='roc_auc')\n",
    "    Accuracy_scores.append(scores.mean())\n",
    "end = time.time()\n",
    "random_p1_time=end-start"
   ]
  },
  {
   "cell_type": "code",
   "execution_count": 105,
   "metadata": {
    "collapsed": false
   },
   "outputs": [
    {
     "data": {
      "text/plain": [
       "<matplotlib.text.Text at 0x7f81fe756cf8>"
      ]
     },
     "execution_count": 105,
     "metadata": {},
     "output_type": "execute_result"
    },
    {
     "data": {
      "image/png": "[encoded data removed]",
      "text/plain": [
       "<matplotlib.figure.Figure at 0x7f8224836a58>"
      ]
     },
     "metadata": {},
     "output_type": "display_data"
    }
   ],
   "source": [
    "plt.plot(potential_n, Accuracy_scores)\n",
    "plt.xlabel('n_estimators')\n",
    "plt.ylabel('Accuracy')"
   ]
  },
  {
   "cell_type": "code",
   "execution_count": 115,
   "metadata": {
    "collapsed": false
   },
   "outputs": [
    {
     "data": {
      "image/png": "[encoded data removed]",
      "text/plain": [
       "<matplotlib.figure.Figure at 0x7f8224762978>"
      ]
     },
     "metadata": {},
     "output_type": "display_data"
    }
   ],
   "source": [
    "start = time.time()\n",
    "feature_range = range(1, len(X[1,:])+1)\n",
    "Accuracy_scores = []\n",
    "\n",
    "for feature in feature_range:\n",
    "    rfclass = RandomForestClassifier(n_estimators=80, max_features=feature, random_state=1)\n",
    "    scores = cross_val_score(rfclass, X, felrec, cv=10, scoring='roc_auc')\n",
    "    Accuracy_scores.append(scores.mean())\n",
    "plt.plot(feature_range, Accuracy_scores)\n",
    "plt.xlabel('max_features')\n",
    "plt.ylabel('AUC')\n",
    "end = time.time()\n",
    "random_p2_time=end-start"
   ]
  },
  {
   "cell_type": "markdown",
   "metadata": {},
   "source": [
    "### Run Model"
   ]
  },
  {
   "cell_type": "code",
   "execution_count": 116,
   "metadata": {
    "collapsed": false
   },
   "outputs": [],
   "source": [
    "start = time.time()\n",
    "from sklearn.ensemble import RandomForestClassifier\n",
    "rfclass=RandomForestClassifier(n_estimators=80, max_features=4,random_state=1)\n",
    "rfclass.fit(X_train,y_train)\n",
    "y_pred_prob_random = rfclass.predict_proba(X_test)[:, 1]\n",
    "from sklearn.cross_validation import cross_val_score\n",
    "rfscores = cross_val_score(rfclass, X, felrec, cv=10, scoring='roc_auc')\n",
    "rfscores\n",
    "random_auc=rfscores.mean()\n",
    "end = time.time()\n",
    "random_m_time=end-start\n",
    "random_time=random_p1_time + random_p2_time + random_m_time"
   ]
  },
  {
   "cell_type": "markdown",
   "metadata": {},
   "source": [
    "# Results"
   ]
  },
  {
   "cell_type": "markdown",
   "metadata": {},
   "source": [
    "## AUC/Time"
   ]
  },
  {
   "cell_type": "code",
   "execution_count": 125,
   "metadata": {
    "collapsed": false
   },
   "outputs": [
    {
     "name": "stdout",
     "output_type": "stream",
     "text": [
      "Null AUC: 0.5\n",
      "Naive Bayes AUC: 0.597059248654\n",
      "  Time: 0.3619382381439209\n",
      "Logistic Regression AUC: 0.735355839334\n",
      "  Time: 5.918241739273071\n",
      "K nearest neighbors AUC: 0.725146945716\n",
      "  Time: 3221.489100933075\n",
      "Gaussian SVC AUC: 0.673294886044\n",
      "  Time: 1993.4569101333618\n",
      "Polynomial SVC AUC: 0.662690315328\n",
      "  Time: 2110.657104730606\n",
      "Decision Tree AUC: 0.56986260936\n",
      "  Time: 2.6989004611968994\n",
      "Bagged Decision Tree AUC: 0.713764103496\n",
      "  Time: 2258.9797699451447\n",
      "Random Forest AUC: 0.724693351868\n",
      "  Time: 3548.1788806915283\n"
     ]
    }
   ],
   "source": [
    "print ('Null AUC: ' + str(.5))\n",
    "print ('Naive Bayes AUC: ' + str(nbauc) + '\\n  Time: ' + str(nbtime))\n",
    "print ('Logistic Regression AUC: ' + str(logauc) + '\\n  Time: ' + str(logtime))\n",
    "print ('K nearest neighbors AUC: ' + str(knn_auc)  + '\\n  Time: ' + str(knn_time))\n",
    "print ('Gaussian SVC AUC: ' + str(svcg_auc) + '\\n  Time: ' + str(svcg_m_time))\n",
    "print ('Polynomial SVC AUC: ' + str(svcp_auc) + '\\n  Time: ' + str(svcp_time))\n",
    "print ('Decision Tree AUC: ' + str(tree_auc)  + '\\n  Time: ' + str(tree_time))\n",
    "print ('Bagged Decision Tree AUC: ' + str(bag_auc) + '\\n  Time: ' + str(bag_time))\n",
    "print ('Random Forest AUC: ' + str(random_auc)  + '\\n  Time: ' + str(random_time))"
   ]
  },
  {
   "cell_type": "markdown",
   "metadata": {},
   "source": [
    "## Roc curves"
   ]
  },
  {
   "cell_type": "code",
   "execution_count": 126,
   "metadata": {
    "collapsed": false
   },
   "outputs": [
    {
     "data": {
      "text/plain": [
       "<matplotlib.legend.Legend at 0x7f81fb14fd30>"
      ]
     },
     "execution_count": 126,
     "metadata": {},
     "output_type": "execute_result"
    },
    {
     "data": {
      "image/png": "[encoded data removed]",
      "text/plain": [
       "<matplotlib.figure.Figure at 0x7f81fb6f1978>"
      ]
     },
     "metadata": {},
     "output_type": "display_data"
    }
   ],
   "source": [
    "%matplotlib inline\n",
    "import matplotlib.lines as mlines\n",
    "import matplotlib.pyplot as plt\n",
    "from sklearn import metrics\n",
    "fpr_nb, tpr_nb, thresholds = metrics.roc_curve(y_test, y_pred_prob_nb)\n",
    "plt.plot(fpr_nb, tpr_nb, color='purple')\n",
    "fpr_log, tpr_log, thresholds = metrics.roc_curve(y_test, y_pred_prob_log)\n",
    "plt.plot(fpr_log, tpr_log, color='orange')\n",
    "fpr_knn, tpr_knn, thresholds = metrics.roc_curve(y_test, y_pred_prob_knn)\n",
    "plt.plot(fpr_knn, tpr_knn, color='red')\n",
    "fpr_svcg, tpr_svcg, thresholds = metrics.roc_curve(y_test, y_pred_prob_svcg)\n",
    "plt.plot(fpr_svcg, tpr_svcg, color='turquoise')\n",
    "fpr_svcp, tpr_svcp, thresholds = metrics.roc_curve(y_test, y_pred_prob_svcp)\n",
    "plt.plot(fpr_svcp, tpr_svcp, color='pink')\n",
    "fpr_tree, tpr_tree, thresholds = metrics.roc_curve(y_test, y_pred_prob_tree)\n",
    "plt.plot(fpr_tree, tpr_tree, color='green')\n",
    "fpr_bag, tpr_bag, thresholds = metrics.roc_curve(y_test, y_pred_prob_bag)\n",
    "plt.plot(fpr_tree, tpr_tree, color='yellow')\n",
    "fpr_bag, tpr_bag, thresholds = metrics.roc_curve(y_test, y_pred_prob_random)\n",
    "plt.plot(fpr_bag, tpr_bag, color='black')\n",
    "plt.xlim([0.0, 1.0])\n",
    "plt.ylim([0.0, 1.0])\n",
    "plt.xlabel('False Positive Rate (1 - Specificity)')\n",
    "plt.ylabel('True Positive Rate (Sensitivity)')\n",
    "log_line = mlines.Line2D([], [], color='orange', label='Logistic Regression')\n",
    "knn_line = mlines.Line2D([], [], color='red', label='k-Nearest Neighbors')\n",
    "tree_line = mlines.Line2D([], [], color='green', label='Classification Tree')\n",
    "nb_line = mlines.Line2D([], [], color='purple', label='Naive Bayes')\n",
    "svcg_line = mlines.Line2D([], [], color='turquoise', label='SVC, Gaussian')\n",
    "svcp_line = mlines.Line2D([], [], color='pink', label='SVC, Polynomial')\n",
    "bag_line = mlines.Line2D([], [], color='yellow', label='Bagged Decision Tree')\n",
    "random_line = mlines.Line2D([], [], color='black', label='Random Forest')\n",
    "\n",
    "plt.legend(handles=[log_line, knn_line, tree_line,nb_line,svcg_line,svcp_line,bag_line,random_line], loc=4)"
   ]
  },
  {
   "cell_type": "markdown",
   "metadata": {},
   "source": [
    "## Discussion"
   ]
  },
  {
   "cell_type": "markdown",
   "metadata": {},
   "source": [
    "Logistic Regression, k-Nearest Neighbors, and Random Forest were the three best classification methods.  Logistic Regression was the best, with an AUC of 0.735355839334.  This was particularly nice, since it's run time was very low, only about 6 seconds.\n",
    "\n",
    "I've had a lot of trouble with the run time of this homework, but this data set was not so much of an issue.  I did not optimize the hyperparameters for the Gaussian or Polynomial kernal SVCs."
   ]
  },
  {
   "cell_type": "markdown",
   "metadata": {},
   "source": [
    "# Music Data Set"
   ]
  },
  {
   "cell_type": "markdown",
   "metadata": {},
   "source": [
    "## Data loading/processing"
   ]
  },
  {
   "cell_type": "code",
   "execution_count": 23,
   "metadata": {
    "collapsed": false
   },
   "outputs": [],
   "source": [
    "import pandas as pd\n",
    "import json\n",
    "import time\n",
    "with open('/home/thyme/Stat-504/HW_3/music.json', 'rU') as f:\n",
    "    data = [json.loads(row) for row in f]\n",
    "    data2 = pd.DataFrame(data)\n",
    "\n",
    "music_best_worst = data2[(data2.overall==5) | (data2.overall==1)]\n",
    "\n",
    "\n",
    "from sklearn.cross_validation import train_test_split\n",
    "X_train, X_test, y_train, y_test = train_test_split(music_best_worst, music_best_worst.overall, random_state=1234567)\n",
    "\n",
    "\n",
    "#Pull out review text, vectorize\n",
    "from sklearn.feature_extraction.text import CountVectorizer\n",
    "vect = CountVectorizer(max_features=1000)\n",
    "train_dtm = vect.fit_transform(X_train.reviewText)\n",
    "test_dtm = vect.fit_transform(X_test.reviewText)\n",
    "dtm=vect.fit_transform(music_best_worst.reviewText)\n",
    "\n",
    "#roc_auc_score will get confused if y_test contains fives and ones, so you will need to create a new object that contains ones and zeros instead.\n",
    "import numpy as np\n",
    "y_test_binary = np.where(y_test==5, 1, 0)\n",
    "y_train_binary = np.where(y_train==5, 1, 0)\n",
    "y_binary=np.where(music_best_worst.overall==5,1,0)"
   ]
  },
  {
   "cell_type": "markdown",
   "metadata": {},
   "source": [
    "## Naive Bayes"
   ]
  },
  {
   "cell_type": "code",
   "execution_count": 24,
   "metadata": {
    "collapsed": true
   },
   "outputs": [],
   "source": [
    "start = time.time()\n",
    "\n",
    "from sklearn.naive_bayes import MultinomialNB\n",
    "nb = MultinomialNB()\n",
    "nb.fit(train_dtm, y_train)\n",
    "y_pred_prob_nb = nb.predict_proba(test_dtm)[:, 1]\n",
    "\n",
    "nbscores = cross_val_score(nb, dtm, y_binary, cv=10, scoring='roc_auc')\n",
    "nbscores\n",
    "nbauc2=nbscores.mean()\n",
    "\n",
    "end = time.time()\n",
    "nbtime2=end-start"
   ]
  },
  {
   "cell_type": "markdown",
   "metadata": {},
   "source": [
    "## Logistic Regression"
   ]
  },
  {
   "cell_type": "code",
   "execution_count": 12,
   "metadata": {
    "collapsed": false
   },
   "outputs": [],
   "source": [
    "start = time.time()\n",
    "from sklearn.linear_model import LogisticRegression\n",
    "logreg = LogisticRegression(random_state=1)\n",
    "logreg.fit(train_dtm, y_train)\n",
    "y_pred_prob_log = logreg.predict_proba(test_dtm)[:, 1]\n",
    "\n",
    "logscores = cross_val_score(logreg, dtm, y_binary, cv=10, scoring='roc_auc')\n",
    "logscores\n",
    "logauc2=logscores.mean()\n",
    "end = time.time()\n",
    "logtime2=end-start"
   ]
  },
  {
   "cell_type": "markdown",
   "metadata": {},
   "source": [
    "## KNN"
   ]
  },
  {
   "cell_type": "markdown",
   "metadata": {},
   "source": [
    "### Optimize Hyperparameter "
   ]
  },
  {
   "cell_type": "code",
   "execution_count": null,
   "metadata": {
    "collapsed": false
   },
   "outputs": [],
   "source": [
    "start = time.time()\n",
    "from sklearn.neighbors import KNeighborsClassifier\n",
    "\n",
    "k_range = range(1, 50)\n",
    "k_scores = []\n",
    "for k in k_range:\n",
    "    knn = KNeighborsClassifier(n_neighbors=k)\n",
    "    scores = cross_val_score(knn, dtm, y_binary, cv=10, scoring='roc_auc')\n",
    "    k_scores.append(scores.mean())\n",
    "print (k_scores)\n",
    "\n",
    "end = time.time()\n",
    "knn_n_time=end-start"
   ]
  },
  {
   "cell_type": "code",
   "execution_count": null,
   "metadata": {
    "collapsed": true
   },
   "outputs": [],
   "source": [
    "%matplotlib inline\n",
    "plt.plot(k_range, k_scores)\n",
    "plt.xlabel('n_neighbors')\n",
    "plt.ylabel('AUC')"
   ]
  },
  {
   "cell_type": "markdown",
   "metadata": {},
   "source": [
    "### Run Model"
   ]
  },
  {
   "cell_type": "code",
   "execution_count": null,
   "metadata": {
    "collapsed": false
   },
   "outputs": [],
   "source": [
    "start = time.time()\n",
    "from sklearn.neighbors import KNeighborsClassifier\n",
    "knn = KNeighborsClassifier(n_neighbors=5, random_state=1)\n",
    "knn.fit(train_dtm, y_train)\n",
    "y_pred_prob_knn =knn.predict_proba(test_dtm)[:, 1]\n",
    "knnscores = cross_val_score(knn, dtm, y_binary, cv=10, scoring='roc_auc')\n",
    "knnscores\n",
    "knn_auc2=knnscores.mean()\n",
    "end = time.time()\n",
    "knn_time2=end-start\n",
    "#knn_time=knn_n_time + knn_m_time"
   ]
  },
  {
   "cell_type": "markdown",
   "metadata": {},
   "source": [
    "## Decision Tree"
   ]
  },
  {
   "cell_type": "code",
   "execution_count": 17,
   "metadata": {
    "collapsed": false
   },
   "outputs": [],
   "source": [
    "start = time.time()\n",
    "from sklearn.tree import DecisionTreeClassifier\n",
    "treeclf = DecisionTreeClassifier(random_state=1)\n",
    "treeclf.fit(train_dtm, y_train)\n",
    "y_pred_prob_tree = treeclf.predict_proba(test_dtm)[:, 1]\n",
    "treescores = cross_val_score(treeclf, dtm, y_binary, cv=10, scoring='roc_auc')\n",
    "treescores\n",
    "tree_auc2=treescores.mean()\n",
    "end = time.time()\n",
    "tree_time2=end-start"
   ]
  },
  {
   "cell_type": "markdown",
   "metadata": {},
   "source": [
    "## Bagged Decision Trees"
   ]
  },
  {
   "cell_type": "markdown",
   "metadata": {},
   "source": [
    "### Hyperparameter optimization"
   ]
  },
  {
   "cell_type": "code",
   "execution_count": null,
   "metadata": {
    "collapsed": false
   },
   "outputs": [],
   "source": [
    "start = time.time()\n",
    "from sklearn.ensemble import BaggingClassifier\n",
    "potential_n = range(10, 410, 50)\n",
    "Accuracy_scores = []\n",
    "for n in potential_n:\n",
    "    bagclass = BaggingClassifier(treeclf,n_estimators=n, random_state=1)\n",
    "    scores = cross_val_score(bagclass, dtm, y_binary, cv=10, scoring='roc_auc')\n",
    "    Accuracy_scores.append(scores.mean())\n",
    "    end = time.time()\n",
    "bag_p_time=end-start"
   ]
  },
  {
   "cell_type": "code",
   "execution_count": null,
   "metadata": {
    "collapsed": false
   },
   "outputs": [],
   "source": [
    "import matplotlib.pyplot as plt\n",
    "plt.plot(potential_n, Accuracy_scores)\n",
    "plt.xlabel('n_estimators')\n",
    "plt.ylabel('AUC')"
   ]
  },
  {
   "cell_type": "markdown",
   "metadata": {},
   "source": [
    "### Run Model"
   ]
  },
  {
   "cell_type": "code",
   "execution_count": 20,
   "metadata": {
    "collapsed": false
   },
   "outputs": [],
   "source": [
    "start = time.time()\n",
    "from sklearn.ensemble import BaggingClassifier\n",
    "bagging=BaggingClassifier(treeclf, random_state=1)\n",
    "bagging.fit(train_dtm, y_train)\n",
    "y_pred_prob_bag = bagging.predict_proba(test_dtm)[:, 1]\n",
    "bagscores = cross_val_score(bagging, dtm, y_binary, cv=10, scoring='roc_auc')\n",
    "bagscores\n",
    "bag_auc2=bagscores.mean()\n",
    "end = time.time()\n",
    "bag_time2=end-start\n",
    "#bag_time=bag_p_time + bag_m_time"
   ]
  },
  {
   "cell_type": "markdown",
   "metadata": {},
   "source": [
    "## Random Forest"
   ]
  },
  {
   "cell_type": "markdown",
   "metadata": {},
   "source": [
    "### Hyperparameter optimization"
   ]
  },
  {
   "cell_type": "code",
   "execution_count": null,
   "metadata": {
    "collapsed": true
   },
   "outputs": [],
   "source": [
    "start = time.time()\n",
    "from sklearn.ensemble import RandomForestClassifier\n",
    "rfclf = RandomForestClassifier()\n",
    "\n",
    "potential_n = range(10, 410, 50)\n",
    "Accuracy_scores = []\n",
    "for n in potential_n:\n",
    "    rfclass = RandomForestClassifier(n_estimators=n, random_state=1)\n",
    "    scores = cross_val_score(rfclass, dtm, y_binary, cv=10, scoring='roc_auc')\n",
    "    Accuracy_scores.append(scores.mean())\n",
    "\n",
    "    end = time.time()\n",
    "random_p1_time=end-start"
   ]
  },
  {
   "cell_type": "code",
   "execution_count": null,
   "metadata": {
    "collapsed": true
   },
   "outputs": [],
   "source": [
    "plt.plot(potential_n, Accuracy_scores)\n",
    "plt.xlabel('n_estimators')\n",
    "plt.ylabel('Accuracy')"
   ]
  },
  {
   "cell_type": "code",
   "execution_count": null,
   "metadata": {
    "collapsed": true
   },
   "outputs": [],
   "source": [
    "start = time.time()\n",
    "feature_range = range(1, len(dtm.columns)+1)\n",
    "Accuracy_scores = []\n",
    "\n",
    "for feature in feature_range:\n",
    "    rfclass = RandomForestClassifier(n_estimators=?, max_features=feature, random_state=1)\n",
    "    scores = cross_val_score(rfclass, dtm, y_binary, cv=10, scoring='roc_auc')\n",
    "    Accuracy_scores.append(scores.mean())\n",
    "\n",
    "\n",
    "end = time.time()\n",
    "random_p2_time=end-start"
   ]
  },
  {
   "cell_type": "code",
   "execution_count": null,
   "metadata": {
    "collapsed": true
   },
   "outputs": [],
   "source": [
    "plt.plot(feature_range, Accuracy_scores)\n",
    "plt.xlabel('max_features')\n",
    "plt.ylabel('AUC')"
   ]
  },
  {
   "cell_type": "code",
   "execution_count": 12,
   "metadata": {
    "collapsed": false
   },
   "outputs": [],
   "source": [
    "start = time.time()\n",
    "from sklearn.ensemble import RandomForestClassifier\n",
    "rfclass=RandomForestClassifier(random_state=1)\n",
    "rfclass.fit(train_dtm, y_train)\n",
    "y_pred_prob_random = rfclass.predict_proba(test_dtm)[:, 1]\n",
    "from sklearn.cross_validation import cross_val_score\n",
    "rfscores = cross_val_score(rfclass, dtm, y_binary, cv=10, scoring='roc_auc')\n",
    "rfscores\n",
    "random_auc2=rfscores.mean()\n",
    "end = time.time()\n",
    "random_time2=end-start\n",
    "#random_time2=random_p1_time + random_p2_time + random_m_time"
   ]
  },
  {
   "cell_type": "markdown",
   "metadata": {},
   "source": [
    "## SVC Gaussian"
   ]
  },
  {
   "cell_type": "markdown",
   "metadata": {},
   "source": [
    "### Hyperparameter Optimization"
   ]
  },
  {
   "cell_type": "code",
   "execution_count": null,
   "metadata": {
    "collapsed": true
   },
   "outputs": [],
   "source": [
    "start = time.time()\n",
    "C_range = np.logspace(-2, 10, 13)\n",
    "gamma_range = np.logspace(-9, 3, 13)\n",
    "from sklearn.cross_validation import StratifiedShuffleSplit\n",
    "param_grid = dict(gamma=gamma_range, C=C_range)\n",
    "cv = StratifiedShuffleSplit(y_binary, n_iter=5, test_size=0.2, random_state=42)\n",
    "from sklearn.grid_search import GridSearchCV\n",
    "from sklearn.svm import SVC\n",
    "grid = GridSearchCV(SVC(), param_grid=param_grid, cv=cv)\n",
    "grid.fit(dtm, y_binary)\n",
    "\n",
    "print(\"The best parameters are %s with a score of %0.2f\"\n",
    "      % (grid.best_params_, grid.best_score_))\n",
    "end = time.time()\n",
    "svcg_p_time=end-start"
   ]
  },
  {
   "cell_type": "markdown",
   "metadata": {},
   "source": [
    "### Run Model "
   ]
  },
  {
   "cell_type": "code",
   "execution_count": 15,
   "metadata": {
    "collapsed": false
   },
   "outputs": [],
   "source": [
    "from sklearn.svm import SVC\n",
    "start = time.time()\n",
    "clf = SVC(kernel='rbf', probability=True)\n",
    "clf.fit(train_dtm, y_train)\n",
    "y_pred_prob_svcg = clf.predict_proba(test_dtm)[:, 1]\n",
    "svcgscores = cross_val_score(clf, dtm, y_binary, cv=10, scoring='roc_auc')\n",
    "svcgscores\n",
    "svcg_auc2=svcgscores.mean()\n",
    "end = time.time()\n",
    "svcg_time=end-start\n",
    "#svcg_time2=svcg_p_time + svcg_m_time"
   ]
  },
  {
   "cell_type": "markdown",
   "metadata": {},
   "source": [
    "## SVC Polynomial"
   ]
  },
  {
   "cell_type": "markdown",
   "metadata": {},
   "source": [
    "### Hyperparameter Optimization"
   ]
  },
  {
   "cell_type": "code",
   "execution_count": null,
   "metadata": {
    "collapsed": true
   },
   "outputs": [],
   "source": [
    "start = time.time()\n",
    "C_range = np.logspace(-2, 10, 13)\n",
    "degree_range = np.logspace(-3, 2, 13)\n",
    "from sklearn.cross_validation import StratifiedShuffleSplit\n",
    "param_grid = dict(gamma=gamma_range, C=C_range)\n",
    "cv = StratifiedShuffleSplit(y_binary, n_iter=5, test_size=0.2, random_state=42)\n",
    "\n",
    "from sklearn.grid_search import GridSearchCV\n",
    "from sklearn.svm import SVC\n",
    "grid = GridSearchCV(SVC(kernel='poly'),param_grid=param_grid, cv=cv)\n",
    "grid.fit(dtm, y_binary)\n",
    "\n",
    "print(\"The best parameters are %s with a score of %0.2f\"\n",
    "      % (grid.best_params_, grid.best_score_))\n",
    "end = time.time()\n",
    "svcp_p_time=end-start"
   ]
  },
  {
   "cell_type": "markdown",
   "metadata": {},
   "source": [
    "### Run Model"
   ]
  },
  {
   "cell_type": "code",
   "execution_count": null,
   "metadata": {
    "collapsed": false
   },
   "outputs": [],
   "source": [
    "start = time.time()\n",
    "clf = SVC(kernel='poly', probability=True)\n",
    "clf.fit(train_dtm, y_train)\n",
    "y_pred_prob_svcp = clf.predict_proba(test_dtm)[:, 1]\n",
    "svcgscores = cross_val_score(clf, dtm, y_binary, cv=10, scoring='roc_auc')\n",
    "svcgscores\n",
    "svcp_auc2=svcgscores.mean()\n",
    "end = time.time()\n",
    "svcp_m_time=end-start\n",
    "#svcp_time2=svcp_p_time + svcp_m_time"
   ]
  },
  {
   "cell_type": "markdown",
   "metadata": {},
   "source": [
    "# Results"
   ]
  },
  {
   "cell_type": "markdown",
   "metadata": {},
   "source": [
    "## AUC/Time"
   ]
  },
  {
   "cell_type": "code",
   "execution_count": 25,
   "metadata": {
    "collapsed": false
   },
   "outputs": [
    {
     "name": "stdout",
     "output_type": "stream",
     "text": [
      "Null AUC: 0.5\n",
      "Naive Bayes AUC: 0.924050584143\n",
      "  Time: 1.4148693084716797\n",
      "Logistic Regression AUC: 0.952552833495\n",
      "  Time: 78.34894919395447\n",
      "Decision Tree AUC: 0.683768126111\n",
      "  Time: 1230.929190158844\n",
      "Bagged Decision Tree AUC: 0.847558458916\n",
      "  Time: 9343.293667316437\n"
     ]
    }
   ],
   "source": [
    "print ('Null AUC: ' + str(.5))\n",
    "print ('Naive Bayes AUC: ' + str(nbauc2) + '\\n  Time: ' + str(nbtime2))\n",
    "print ('Logistic Regression AUC: ' + str(logauc2) + '\\n  Time: ' + str(logtime2))\n",
    "#print ('K nearest neighbors AUC: ' + str(knn_auc2)  + '\\n  Time: ' + str(knn_time2))\n",
    "#print ('Gaussian SVC AUC: ' + str(svcg_auc2) + '\\n  Time: ' + str(svcg_time))\n",
    "#print ('Polynomial SVC AUC: ' + str(svcp_auc2) + '\\n  Time: ' + str(svcp_time2))\n",
    "print ('Decision Tree AUC: ' + str(tree_auc2)  + '\\n  Time: ' + str(tree_time2))\n",
    "print ('Bagged Decision Tree AUC: ' + str(bag_auc2) + '\\n  Time: ' + str(bag_time2))\n",
    "#print ('Random Forest AUC: ' + str(random_auc2)  + '\\n  Time: ' + str(random_time2))"
   ]
  },
  {
   "cell_type": "markdown",
   "metadata": {},
   "source": [
    "## ROC Curves"
   ]
  },
  {
   "cell_type": "code",
   "execution_count": 22,
   "metadata": {
    "collapsed": false
   },
   "outputs": [
    {
     "data": {
      "text/plain": [
       "<matplotlib.legend.Legend at 0x7f1d8cb650f0>"
      ]
     },
     "execution_count": 22,
     "metadata": {},
     "output_type": "execute_result"
    },
    {
     "data": {
      "image/png": "[encoded data removed]",
      "text/plain": [
       "<matplotlib.figure.Figure at 0x7f1d8d546400>"
      ]
     },
     "metadata": {},
     "output_type": "display_data"
    }
   ],
   "source": [
    "%matplotlib inline\n",
    "import matplotlib.lines as mlines\n",
    "import matplotlib.pyplot as plt\n",
    "from sklearn import metrics\n",
    "fpr_nb, tpr_nb, thresholds = metrics.roc_curve(y_test_binary, y_pred_prob_nb)\n",
    "plt.plot(fpr_nb, tpr_nb, color='purple')\n",
    "fpr_log, tpr_log, thresholds = metrics.roc_curve(y_test_binary, y_pred_prob_log)\n",
    "plt.plot(fpr_log, tpr_log, color='orange')\n",
    "#fpr_knn, tpr_knn, thresholds = metrics.roc_curve(y_test_binary, y_pred_prob_knn)\n",
    "#plt.plot(fpr_knn, tpr_knn, color='red')\n",
    "#fpr_svcg, tpr_svcg, thresholds = metrics.roc_curve(y_test_binary, y_pred_prob_svcg)\n",
    "#plt.plot(fpr_svcg, tpr_svcg, color='turquoise')\n",
    "#fpr_svcp, tpr_svcp, thresholds = metrics.roc_curve(y_test_binary, y_pred_prob_svcp)\n",
    "#plt.plot(fpr_svcp, tpr_svcp, color='pink')\n",
    "fpr_tree, tpr_tree, thresholds = metrics.roc_curve(y_test_binary, y_pred_prob_tree)\n",
    "plt.plot(fpr_tree, tpr_tree, color='green')\n",
    "#fpr_random, tpr_random, thresholds = metrics.roc_curve(y_test_binary, y_pred_prob_random)\n",
    "#plt.plot(fpr_random, tpr_random, color='yellow')\n",
    "fpr_bag, tpr_bag, thresholds = metrics.roc_curve(y_test_binary, y_pred_prob_bag)\n",
    "plt.plot(fpr_bag, tpr_bag, color='black')\n",
    "plt.xlim([0.0, 1.0])\n",
    "plt.ylim([0.0, 1.0])\n",
    "plt.xlabel('False Positive Rate (1 - Specificity)')\n",
    "plt.ylabel('True Positive Rate (Sensitivity)')\n",
    "log_line = mlines.Line2D([], [], color='orange', label='Logistic Regression')\n",
    "knn_line = mlines.Line2D([], [], color='red', label='k-Nearest Neighbors')\n",
    "tree_line = mlines.Line2D([], [], color='green', label='Classification Tree')\n",
    "nb_line = mlines.Line2D([], [], color='purple', label='Naive Bayes')\n",
    "svcg_line = mlines.Line2D([], [], color='turquoise', label='SVC, Gaussian')\n",
    "svcp_line = mlines.Line2D([], [], color='pink', label='SVC, Polynomial')\n",
    "bag_line = mlines.Line2D([], [], color='yellow', label='Bagged Decision Tree')\n",
    "random_line = mlines.Line2D([], [], color='black', label='Random Forest')\n",
    "\n",
    "plt.legend(handles=[log_line, knn_line, tree_line,nb_line,svcg_line,svcp_line,bag_line,random_line], loc=4)"
   ]
  },
  {
   "cell_type": "markdown",
   "metadata": {
    "collapsed": true
   },
   "source": [
    "## Discussion"
   ]
  },
  {
   "cell_type": "markdown",
   "metadata": {},
   "source": [
    "I had so much trouble with this data set.  I unfortunately used the same names for the variables in both data sets the first time I ran the code, and I ran the music data set first.  So, when I ran the Strong data set, it overwrote all my results.  So, one important, if slightly obvious, thing I learned from this homework assignment is to use unique variable names.\n",
    "\n",
    "I didn't optimize any of the hyperparameters for this data set for time reasons.  Also, the Polynomial SVC took 2 days to run, never finished, and then when I stopped it, I lost all of the rest of the results.  So now I'm pretty much giving up and only turning in the results for a few tests.\n",
    "\n",
    "The tests I was able to run were Naive Bayes, Logistic Regression, Decision Tree Classification, and Bagged Decision Tree.  Amongst those, logistic regression was the best, shortly followed by Naive Bayes.  I'm a little concerned about the values I got for the AUC for Naive Bayes and Logistic Regression, because just looking at the area under the ROC curve, it does not look like the area should be anywhere close to 0.924050584143 or 0.952552833495"
   ]
  },
  {
   "cell_type": "code",
   "execution_count": null,
   "metadata": {
    "collapsed": true
   },
   "outputs": [],
   "source": []
  }
 ],
 "metadata": {
  "kernelspec": {
   "display_name": "Python 3",
   "language": "python",
   "name": "python3"
  },
  "language_info": {
   "codemirror_mode": {
    "name": "ipython",
    "version": 3
   },
   "file_extension": ".py",
   "mimetype": "text/x-python",
   "name": "python",
   "nbconvert_exporter": "python",
   "pygments_lexer": "ipython3",
   "version": "3.5.0"
  }
 },
 "nbformat": 4,
 "nbformat_minor": 0
}
