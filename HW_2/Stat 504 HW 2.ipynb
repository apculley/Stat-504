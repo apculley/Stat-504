{
 "cells": [
  {
   "cell_type": "markdown",
   "metadata": {},
   "source": [
    "# STAT 504 Fall 2015\n",
    "Homework #2<br>\n",
    "Amanda Culley\n",
    "\n",
    "\n",
    "This assignment uses a small subset of the data from Kaggle's Yelp Business Rating Prediction competition. The data set is at https://github.com/justmarkham/DAT7/tree/master/data/yelp.csv\n",
    "Description of the data: Each observation in this dataset is a review of a particular business by a particular user. The \"stars\" column is the number of stars (1 through 5) assigned by the reviewer to the business. (Higher stars is better.) The \"cool\" column is the number of \"cool\" votes this particular review received from other Yelp users. There is no limit to how many \"cool\" votes a review can receive. The \"useful\" and \"funny\" columns are similar to the \"cool\" column."
   ]
  },
  {
   "cell_type": "markdown",
   "metadata": {},
   "source": [
    "### 1. Read yelp.csv into a DataFrame."
   ]
  },
  {
   "cell_type": "code",
   "execution_count": 1,
   "metadata": {
    "collapsed": true
   },
   "outputs": [],
   "source": [
    "import pandas as pd\n",
    "yelp=pd.read_csv('https://raw.githubusercontent.com/justmarkham/DAT7/master/data/yelp.csv')"
   ]
  },
  {
   "cell_type": "markdown",
   "metadata": {},
   "source": [
    "### 2. Create a new DataFrame that only contains the 5-star and 1-star reviews."
   ]
  },
  {
   "cell_type": "code",
   "execution_count": 2,
   "metadata": {
    "collapsed": true
   },
   "outputs": [],
   "source": [
    "yelp_best_worst = yelp[(yelp.stars==5) | (yelp.stars==1)]"
   ]
  },
  {
   "cell_type": "markdown",
   "metadata": {},
   "source": [
    "### 3. Use a random seed 1234567, split the new DataFrame into training and testing sets, using the review text as the feature and the star rating as the response variable.\n",
    "\n",
    "(For convenience, I split the entire data set into training and testing sets, with the star rating as the response variable.)"
   ]
  },
  {
   "cell_type": "code",
   "execution_count": 3,
   "metadata": {
    "collapsed": true
   },
   "outputs": [],
   "source": [
    "from sklearn.cross_validation import train_test_split\n",
    "X_train, X_test, y_train, y_test = train_test_split(yelp_best_worst, yelp_best_worst.stars, random_state=1234567)"
   ]
  },
  {
   "cell_type": "markdown",
   "metadata": {},
   "source": [
    "## 4. Use CountVectorizer to create document-term matrices from X_train and X_test."
   ]
  },
  {
   "cell_type": "code",
   "execution_count": 4,
   "metadata": {
    "collapsed": true
   },
   "outputs": [],
   "source": [
    "from sklearn.feature_extraction.text import CountVectorizer\n",
    "vect = CountVectorizer()\n",
    "train_dtm = vect.fit_transform(X_train.text)\n",
    "test_dtm = vect.transform(X_test.text)"
   ]
  },
  {
   "cell_type": "markdown",
   "metadata": {},
   "source": [
    "## 5. Use Logistic Regression, k-Nearest Neighbors, Classification Tree to predict the star rating for reviews in the testing set, and calculate the AUC and plot the ROC Curve for the three models.\n",
    "a. Hint 1: Make sure to pass the predicted probabilities to roc_auc_score, not the predicted classes.\n",
    "b. Hint 2: roc_auc_score will get confused if y_test contains fives and ones, so you will need to create a new object that contains ones and zeros instead."
   ]
  },
  {
   "cell_type": "markdown",
   "metadata": {},
   "source": [
    "### Step 1.    <br>roc_auc_score will get confused if y_test contains fives and ones, so you will need to create a new object that contains ones and zeros instead."
   ]
  },
  {
   "cell_type": "code",
   "execution_count": 5,
   "metadata": {
    "collapsed": true
   },
   "outputs": [],
   "source": [
    "import numpy as np\n",
    "y_test_binary = np.where(y_test==5, 1, 0)"
   ]
  },
  {
   "cell_type": "markdown",
   "metadata": {},
   "source": [
    "### Step 2. <br> Fit models with training data and predict class (1 or 5 stars) and probabilities for testing data."
   ]
  },
  {
   "cell_type": "markdown",
   "metadata": {},
   "source": [
    "#### Logistic Regression:"
   ]
  },
  {
   "cell_type": "code",
   "execution_count": 6,
   "metadata": {
    "collapsed": true
   },
   "outputs": [],
   "source": [
    "from sklearn.linear_model import LogisticRegression\n",
    "logreg = LogisticRegression(C=1e9)\n",
    "logreg.fit(train_dtm, y_train)\n",
    "y_pred_class = logreg.predict(test_dtm)\n",
    "y_pred_prob_log = logreg.predict_proba(test_dtm)[:, 1]"
   ]
  },
  {
   "cell_type": "markdown",
   "metadata": {},
   "source": [
    "#### k-Nearest Neighbors:"
   ]
  },
  {
   "cell_type": "code",
   "execution_count": 7,
   "metadata": {
    "collapsed": true
   },
   "outputs": [],
   "source": [
    "from sklearn.neighbors import KNeighborsClassifier\n",
    "knn = KNeighborsClassifier(n_neighbors=11)\n",
    "knn.fit(train_dtm, y_train)\n",
    "y_pred_class = knn.predict(test_dtm)\n",
    "y_pred_prob_knn = knn.predict_proba(test_dtm)[:, 1]"
   ]
  },
  {
   "cell_type": "markdown",
   "metadata": {},
   "source": [
    "#### Classification Tree:"
   ]
  },
  {
   "cell_type": "code",
   "execution_count": 8,
   "metadata": {
    "collapsed": true
   },
   "outputs": [],
   "source": [
    "from sklearn.tree import DecisionTreeClassifier\n",
    "treeclf = DecisionTreeClassifier()\n",
    "treeclf.fit(train_dtm, y_train)\n",
    "y_pred_class = treeclf.predict(test_dtm)\n",
    "y_pred_prob_tree = treeclf.predict_proba(test_dtm)[:, 1]"
   ]
  },
  {
   "cell_type": "markdown",
   "metadata": {},
   "source": [
    "### Step 3.<br> Calculate the AUC for the three models."
   ]
  },
  {
   "cell_type": "code",
   "execution_count": 9,
   "metadata": {
    "collapsed": false
   },
   "outputs": [
    {
     "name": "stdout",
     "output_type": "stream",
     "text": [
      "Logistic Regression AUC: 0.956691221009\n",
      "K nearest neighbors AUC: 0.735536059712\n",
      "Decision Tree AUC: 0.744820466728\n"
     ]
    }
   ],
   "source": [
    "from sklearn import metrics\n",
    "print 'Logistic Regression AUC: ' + str(metrics.roc_auc_score(y_test_binary, y_pred_prob_log))\n",
    "print 'K nearest neighbors AUC: ' + str(metrics.roc_auc_score(y_test_binary, y_pred_prob_knn))\n",
    "print 'Decision Tree AUC: ' + str(metrics.roc_auc_score(y_test_binary, y_pred_prob_tree))"
   ]
  },
  {
   "cell_type": "markdown",
   "metadata": {},
   "source": [
    "### Step 4.<br> Plot the ROC curves for the three models."
   ]
  },
  {
   "cell_type": "code",
   "execution_count": 22,
   "metadata": {
    "collapsed": false
   },
   "outputs": [
    {
     "data": {
      "text/plain": [
       "<matplotlib.legend.Legend at 0xa86911cc>"
      ]
     },
     "execution_count": 22,
     "metadata": {},
     "output_type": "execute_result"
    },
    {
     "data": {
      "image/png": "[encoded data removed]",
      "text/plain": [
       "<matplotlib.figure.Figure at 0xa881c58c>"
      ]
     },
     "metadata": {},
     "output_type": "display_data"
    }
   ],
   "source": [
    "%matplotlib inline\n",
    "import matplotlib.lines as mlines\n",
    "import matplotlib.pyplot as plt\n",
    "fpr_log, tpr_log, thresholds = metrics.roc_curve(y_test_binary, y_pred_prob_log)\n",
    "plt.plot(fpr_log, tpr_log, color='purple')\n",
    "fpr_knn, tpr_knn, thresholds = metrics.roc_curve(y_test_binary, y_pred_prob_knn)\n",
    "plt.plot(fpr_knn, tpr_knn, color='orange')\n",
    "fpr_tree, tpr_tree, thresholds = metrics.roc_curve(y_test_binary, y_pred_prob_tree)\n",
    "plt.plot(fpr_tree, tpr_tree, color='turquoise')\n",
    "plt.xlim([0.0, 1.0])\n",
    "plt.ylim([0.0, 1.0])\n",
    "plt.xlabel('False Positive Rate (1 - Specificity)')\n",
    "plt.ylabel('True Positive Rate (Sensitivity)')\n",
    "log_line = mlines.Line2D([], [], color='purple', label='Logistic Regression')\n",
    "knn_line = mlines.Line2D([], [], color='orange', label='k-Nearest Neighbors')\n",
    "tree_line = mlines.Line2D([], [], color='turquoise', label='Classification Tree')\n",
    "plt.legend(handles=[log_line, knn_line, tree_line], loc=4)"
   ]
  },
  {
   "cell_type": "markdown",
   "metadata": {},
   "source": [
    "## 6. Add vote types (cool/useful/funny) as an additional features into the modeling process and refit the three models to predict the star rating in the testing set, and calculate the AUC and plot the ROC Curve for the three models. Any improvement or not? Comment on your findings."
   ]
  },
  {
   "cell_type": "markdown",
   "metadata": {},
   "source": [
    "### Step 1.<br> Pull out feature columns for X_train and X_test."
   ]
  },
  {
   "cell_type": "code",
   "execution_count": 23,
   "metadata": {
    "collapsed": true
   },
   "outputs": [],
   "source": [
    "feature_cols=['cool','useful','funny']\n",
    "train_dtm=X_train[feature_cols]\n",
    "test_dtm=X_test[feature_cols]"
   ]
  },
  {
   "cell_type": "markdown",
   "metadata": {},
   "source": [
    "### Step 2. <br> Fit models with training data and predict class (1 or 5 stars) and probabilities for testing data."
   ]
  },
  {
   "cell_type": "markdown",
   "metadata": {},
   "source": [
    "#### Logistic Regression:"
   ]
  },
  {
   "cell_type": "code",
   "execution_count": 24,
   "metadata": {
    "collapsed": true
   },
   "outputs": [],
   "source": [
    "logreg = LogisticRegression(C=1e9)\n",
    "logreg.fit(train_dtm, y_train)\n",
    "y_pred_class = logreg.predict(test_dtm)\n",
    "y_pred_prob_log = logreg.predict_proba(test_dtm)[:, 1]"
   ]
  },
  {
   "cell_type": "markdown",
   "metadata": {},
   "source": [
    "#### k-Nearest Neighbors:"
   ]
  },
  {
   "cell_type": "code",
   "execution_count": 25,
   "metadata": {
    "collapsed": true
   },
   "outputs": [],
   "source": [
    "knn = KNeighborsClassifier(n_neighbors=11)\n",
    "knn.fit(train_dtm, y_train)\n",
    "y_pred_class = knn.predict(test_dtm)\n",
    "y_pred_prob_knn = knn.predict_proba(test_dtm)[:, 1]"
   ]
  },
  {
   "cell_type": "markdown",
   "metadata": {},
   "source": [
    "#### Classification Tree:"
   ]
  },
  {
   "cell_type": "code",
   "execution_count": 26,
   "metadata": {
    "collapsed": true
   },
   "outputs": [],
   "source": [
    "treeclf = DecisionTreeClassifier()\n",
    "treeclf.fit(train_dtm, y_train)\n",
    "y_pred_class = treeclf.predict(test_dtm)\n",
    "y_pred_prob_tree = treeclf.predict_proba(test_dtm)[:, 1]"
   ]
  },
  {
   "cell_type": "markdown",
   "metadata": {},
   "source": [
    "### Step 3.<br> Calculate the AUC for the three models."
   ]
  },
  {
   "cell_type": "code",
   "execution_count": 27,
   "metadata": {
    "collapsed": false
   },
   "outputs": [
    {
     "name": "stdout",
     "output_type": "stream",
     "text": [
      "Logistic Regression AUC: 0.674433524167\n",
      "K nearest neighbors AUC: 0.651455349525\n",
      "Decision Tree AUC: 0.620387919524\n"
     ]
    }
   ],
   "source": [
    "print 'Logistic Regression AUC: ' + str(metrics.roc_auc_score(y_test_binary, y_pred_prob_log))\n",
    "print 'K nearest neighbors AUC: ' + str(metrics.roc_auc_score(y_test_binary, y_pred_prob_knn))\n",
    "print 'Decision Tree AUC: ' + str(metrics.roc_auc_score(y_test_binary, y_pred_prob_tree))"
   ]
  },
  {
   "cell_type": "markdown",
   "metadata": {},
   "source": [
    "### Step 4.<br> Plot the ROC curves for the three models."
   ]
  },
  {
   "cell_type": "code",
   "execution_count": 29,
   "metadata": {
    "collapsed": false
   },
   "outputs": [
    {
     "data": {
      "text/plain": [
       "<matplotlib.legend.Legend at 0xad1a9d6c>"
      ]
     },
     "execution_count": 29,
     "metadata": {},
     "output_type": "execute_result"
    },
    {
     "data": {
      "image/png": "[encoded data removed]",
      "text/plain": [
       "<matplotlib.figure.Figure at 0xa864c40c>"
      ]
     },
     "metadata": {},
     "output_type": "display_data"
    }
   ],
   "source": [
    "fpr_log, tpr_log, thresholds = metrics.roc_curve(y_test_binary, y_pred_prob_log)\n",
    "plt.plot(fpr_log, tpr_log, color='purple')\n",
    "fpr_knn, tpr_knn, thresholds = metrics.roc_curve(y_test_binary, y_pred_prob_knn)\n",
    "plt.plot(fpr_knn, tpr_knn, color='orange')\n",
    "fpr_tree, tpr_tree, thresholds = metrics.roc_curve(y_test_binary, y_pred_prob_tree)\n",
    "plt.plot(fpr_tree, tpr_tree, color='turquoise')\n",
    "plt.xlim([0.0, 1.0])\n",
    "plt.ylim([0.0, 1.0])\n",
    "plt.xlabel('False Positive Rate (1 - Specificity)')\n",
    "plt.ylabel('True Positive Rate (Sensitivity)')\n",
    "log_line = mlines.Line2D([], [], color='purple', label='Logistic Regression')\n",
    "knn_line = mlines.Line2D([], [], color='orange', label='k-Nearest Neighbors')\n",
    "tree_line = mlines.Line2D([], [], color='turquoise', label='Classification Tree')\n",
    "plt.legend(handles=[log_line, knn_line, tree_line], loc=4)"
   ]
  },
  {
   "cell_type": "markdown",
   "metadata": {},
   "source": [
    "##  Any improvement or not? Comment on your findings.\n",
    "Using the count vectorization of the review text is clearly much more useful than how many people voted the review 'cool', 'useful', 'funny' for predicting whether the rating was one or five stars, which is not too surprising.  \n",
    "\n",
    "Amongst the three models, logistic regression is the best in both cases, with an AUC of .9567 with the review text as a feature variable, and .6744 with the 'cool', 'useful', 'funny' feature variables.  \n",
    "\n",
    "If we had been able to add the 'cool', 'useful', 'funny' variables as features to the count vectorization of the review text, it would have been really interesting to see whether and how much that improved the accuracy of the predictions.  Since the AUC values for the 'cool', 'useful', 'funny' feature variables were greater than .5, I would guess that adding them as features to the count vectorization of the test model would have improved the predictions."
   ]
  },
  {
   "cell_type": "code",
   "execution_count": null,
   "metadata": {
    "collapsed": true
   },
   "outputs": [],
   "source": []
  }
 ],
 "metadata": {
  "kernelspec": {
   "display_name": "Python 2",
   "language": "python",
   "name": "python2"
  },
  "language_info": {
   "codemirror_mode": {
    "name": "ipython",
    "version": 2
   },
   "file_extension": ".py",
   "mimetype": "text/x-python",
   "name": "python",
   "nbconvert_exporter": "python",
   "pygments_lexer": "ipython2",
   "version": "2.7.10"
  }
 },
 "nbformat": 4,
 "nbformat_minor": 0
}
