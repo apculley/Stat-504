{
 "cells": [
  {
   "cell_type": "markdown",
   "metadata": {},
   "source": [
    "## Data\n",
    "\n",
    "The data is a set of 28 pixel by 28 pixel black and white pictures of handwritten digits between 0 and 9. It is a MNIST (Modified National Institute of Standards and Technology) data set originally created by Yann Lecun.  The data set I used is hosted Kaggle.com, under their competitions.\n",
    "\n",
    "http://yann.lecun.com/exdb/mnist/ \n",
    "\n",
    "https://www.kaggle.com/c/digit-recognizer\n",
    "\n",
    "The images have been converted to a csv file, where the first column, named 'label', is the digit that the picture is of, and the rest of the columns correspond to each pixel in the pictures. Each pixel column contains an integer between 0 and 255 to denote what shade that pixel is, where zero is white and 255 is black. Each row corresponds to a different digit image. The training data set is a set of 42,000 images, and the test data set is a set of 28,000 images.  I am just using 5000 of the training set values as my entire data set, for computing time reasons."
   ]
  },
  {
   "cell_type": "code",
   "execution_count": 131,
   "metadata": {
    "collapsed": false
   },
   "outputs": [
    {
     "data": {
      "text/html": [
       "<div>\n",
       "<table border=\"1\" class=\"dataframe\">\n",
       "  <thead>\n",
       "    <tr style=\"text-align: right;\">\n",
       "      <th></th>\n",
       "      <th>label</th>\n",
       "      <th>pixel0</th>\n",
       "      <th>pixel1</th>\n",
       "      <th>pixel2</th>\n",
       "      <th>pixel3</th>\n",
       "      <th>pixel4</th>\n",
       "      <th>pixel5</th>\n",
       "      <th>pixel6</th>\n",
       "      <th>pixel7</th>\n",
       "      <th>pixel8</th>\n",
       "      <th>...</th>\n",
       "      <th>pixel774</th>\n",
       "      <th>pixel775</th>\n",
       "      <th>pixel776</th>\n",
       "      <th>pixel777</th>\n",
       "      <th>pixel778</th>\n",
       "      <th>pixel779</th>\n",
       "      <th>pixel780</th>\n",
       "      <th>pixel781</th>\n",
       "      <th>pixel782</th>\n",
       "      <th>pixel783</th>\n",
       "    </tr>\n",
       "  </thead>\n",
       "  <tbody>\n",
       "    <tr>\n",
       "      <th>0</th>\n",
       "      <td>1</td>\n",
       "      <td>0</td>\n",
       "      <td>0</td>\n",
       "      <td>0</td>\n",
       "      <td>0</td>\n",
       "      <td>0</td>\n",
       "      <td>0</td>\n",
       "      <td>0</td>\n",
       "      <td>0</td>\n",
       "      <td>0</td>\n",
       "      <td>...</td>\n",
       "      <td>0</td>\n",
       "      <td>0</td>\n",
       "      <td>0</td>\n",
       "      <td>0</td>\n",
       "      <td>0</td>\n",
       "      <td>0</td>\n",
       "      <td>0</td>\n",
       "      <td>0</td>\n",
       "      <td>0</td>\n",
       "      <td>0</td>\n",
       "    </tr>\n",
       "    <tr>\n",
       "      <th>1</th>\n",
       "      <td>0</td>\n",
       "      <td>0</td>\n",
       "      <td>0</td>\n",
       "      <td>0</td>\n",
       "      <td>0</td>\n",
       "      <td>0</td>\n",
       "      <td>0</td>\n",
       "      <td>0</td>\n",
       "      <td>0</td>\n",
       "      <td>0</td>\n",
       "      <td>...</td>\n",
       "      <td>0</td>\n",
       "      <td>0</td>\n",
       "      <td>0</td>\n",
       "      <td>0</td>\n",
       "      <td>0</td>\n",
       "      <td>0</td>\n",
       "      <td>0</td>\n",
       "      <td>0</td>\n",
       "      <td>0</td>\n",
       "      <td>0</td>\n",
       "    </tr>\n",
       "    <tr>\n",
       "      <th>2</th>\n",
       "      <td>1</td>\n",
       "      <td>0</td>\n",
       "      <td>0</td>\n",
       "      <td>0</td>\n",
       "      <td>0</td>\n",
       "      <td>0</td>\n",
       "      <td>0</td>\n",
       "      <td>0</td>\n",
       "      <td>0</td>\n",
       "      <td>0</td>\n",
       "      <td>...</td>\n",
       "      <td>0</td>\n",
       "      <td>0</td>\n",
       "      <td>0</td>\n",
       "      <td>0</td>\n",
       "      <td>0</td>\n",
       "      <td>0</td>\n",
       "      <td>0</td>\n",
       "      <td>0</td>\n",
       "      <td>0</td>\n",
       "      <td>0</td>\n",
       "    </tr>\n",
       "    <tr>\n",
       "      <th>3</th>\n",
       "      <td>4</td>\n",
       "      <td>0</td>\n",
       "      <td>0</td>\n",
       "      <td>0</td>\n",
       "      <td>0</td>\n",
       "      <td>0</td>\n",
       "      <td>0</td>\n",
       "      <td>0</td>\n",
       "      <td>0</td>\n",
       "      <td>0</td>\n",
       "      <td>...</td>\n",
       "      <td>0</td>\n",
       "      <td>0</td>\n",
       "      <td>0</td>\n",
       "      <td>0</td>\n",
       "      <td>0</td>\n",
       "      <td>0</td>\n",
       "      <td>0</td>\n",
       "      <td>0</td>\n",
       "      <td>0</td>\n",
       "      <td>0</td>\n",
       "    </tr>\n",
       "    <tr>\n",
       "      <th>4</th>\n",
       "      <td>0</td>\n",
       "      <td>0</td>\n",
       "      <td>0</td>\n",
       "      <td>0</td>\n",
       "      <td>0</td>\n",
       "      <td>0</td>\n",
       "      <td>0</td>\n",
       "      <td>0</td>\n",
       "      <td>0</td>\n",
       "      <td>0</td>\n",
       "      <td>...</td>\n",
       "      <td>0</td>\n",
       "      <td>0</td>\n",
       "      <td>0</td>\n",
       "      <td>0</td>\n",
       "      <td>0</td>\n",
       "      <td>0</td>\n",
       "      <td>0</td>\n",
       "      <td>0</td>\n",
       "      <td>0</td>\n",
       "      <td>0</td>\n",
       "    </tr>\n",
       "  </tbody>\n",
       "</table>\n",
       "<p>5 rows × 785 columns</p>\n",
       "</div>"
      ],
      "text/plain": [
       "   label  pixel0  pixel1  pixel2  pixel3  pixel4  pixel5  pixel6  pixel7  \\\n",
       "0      1       0       0       0       0       0       0       0       0   \n",
       "1      0       0       0       0       0       0       0       0       0   \n",
       "2      1       0       0       0       0       0       0       0       0   \n",
       "3      4       0       0       0       0       0       0       0       0   \n",
       "4      0       0       0       0       0       0       0       0       0   \n",
       "\n",
       "   pixel8    ...     pixel774  pixel775  pixel776  pixel777  pixel778  \\\n",
       "0       0    ...            0         0         0         0         0   \n",
       "1       0    ...            0         0         0         0         0   \n",
       "2       0    ...            0         0         0         0         0   \n",
       "3       0    ...            0         0         0         0         0   \n",
       "4       0    ...            0         0         0         0         0   \n",
       "\n",
       "   pixel779  pixel780  pixel781  pixel782  pixel783  \n",
       "0         0         0         0         0         0  \n",
       "1         0         0         0         0         0  \n",
       "2         0         0         0         0         0  \n",
       "3         0         0         0         0         0  \n",
       "4         0         0         0         0         0  \n",
       "\n",
       "[5 rows x 785 columns]"
      ]
     },
     "execution_count": 131,
     "metadata": {},
     "output_type": "execute_result"
    }
   ],
   "source": [
    "import pandas as pd\n",
    "digits=pd.read_csv('/home/thyme/Stat-504/Final_Project/train.csv')\n",
    "digits=digits.head(n=5000)\n",
    "digits.head()"
   ]
  },
  {
   "cell_type": "code",
   "execution_count": 16,
   "metadata": {
    "collapsed": false
   },
   "outputs": [
    {
     "data": {
      "text/html": [
       "<div>\n",
       "<table border=\"1\" class=\"dataframe\">\n",
       "  <thead>\n",
       "    <tr style=\"text-align: right;\">\n",
       "      <th></th>\n",
       "      <th>pixel399</th>\n",
       "      <th>pixel400</th>\n",
       "      <th>pixel401</th>\n",
       "      <th>pixel402</th>\n",
       "      <th>pixel403</th>\n",
       "      <th>pixel404</th>\n",
       "      <th>pixel405</th>\n",
       "      <th>pixel406</th>\n",
       "      <th>pixel407</th>\n",
       "      <th>pixel408</th>\n",
       "      <th>pixel409</th>\n",
       "      <th>pixel410</th>\n",
       "      <th>pixel411</th>\n",
       "      <th>pixel412</th>\n",
       "      <th>pixel413</th>\n",
       "      <th>pixel414</th>\n",
       "      <th>pixel415</th>\n",
       "      <th>pixel416</th>\n",
       "      <th>pixel417</th>\n",
       "      <th>pixel418</th>\n",
       "    </tr>\n",
       "  </thead>\n",
       "  <tbody>\n",
       "    <tr>\n",
       "      <th>0</th>\n",
       "      <td>0</td>\n",
       "      <td>0</td>\n",
       "      <td>0</td>\n",
       "      <td>0</td>\n",
       "      <td>20</td>\n",
       "      <td>206</td>\n",
       "      <td>254</td>\n",
       "      <td>254</td>\n",
       "      <td>198</td>\n",
       "      <td>7</td>\n",
       "      <td>0</td>\n",
       "      <td>0</td>\n",
       "      <td>0</td>\n",
       "      <td>0</td>\n",
       "      <td>0</td>\n",
       "      <td>0</td>\n",
       "      <td>0</td>\n",
       "      <td>0</td>\n",
       "      <td>0</td>\n",
       "      <td>0</td>\n",
       "    </tr>\n",
       "    <tr>\n",
       "      <th>1</th>\n",
       "      <td>254</td>\n",
       "      <td>254</td>\n",
       "      <td>29</td>\n",
       "      <td>0</td>\n",
       "      <td>0</td>\n",
       "      <td>0</td>\n",
       "      <td>0</td>\n",
       "      <td>0</td>\n",
       "      <td>0</td>\n",
       "      <td>0</td>\n",
       "      <td>0</td>\n",
       "      <td>0</td>\n",
       "      <td>75</td>\n",
       "      <td>254</td>\n",
       "      <td>254</td>\n",
       "      <td>254</td>\n",
       "      <td>17</td>\n",
       "      <td>0</td>\n",
       "      <td>0</td>\n",
       "      <td>0</td>\n",
       "    </tr>\n",
       "    <tr>\n",
       "      <th>2</th>\n",
       "      <td>0</td>\n",
       "      <td>0</td>\n",
       "      <td>0</td>\n",
       "      <td>0</td>\n",
       "      <td>0</td>\n",
       "      <td>9</td>\n",
       "      <td>254</td>\n",
       "      <td>254</td>\n",
       "      <td>184</td>\n",
       "      <td>0</td>\n",
       "      <td>0</td>\n",
       "      <td>0</td>\n",
       "      <td>0</td>\n",
       "      <td>0</td>\n",
       "      <td>0</td>\n",
       "      <td>0</td>\n",
       "      <td>0</td>\n",
       "      <td>0</td>\n",
       "      <td>0</td>\n",
       "      <td>0</td>\n",
       "    </tr>\n",
       "    <tr>\n",
       "      <th>3</th>\n",
       "      <td>0</td>\n",
       "      <td>67</td>\n",
       "      <td>251</td>\n",
       "      <td>40</td>\n",
       "      <td>0</td>\n",
       "      <td>0</td>\n",
       "      <td>0</td>\n",
       "      <td>0</td>\n",
       "      <td>0</td>\n",
       "      <td>0</td>\n",
       "      <td>0</td>\n",
       "      <td>94</td>\n",
       "      <td>255</td>\n",
       "      <td>69</td>\n",
       "      <td>0</td>\n",
       "      <td>0</td>\n",
       "      <td>0</td>\n",
       "      <td>0</td>\n",
       "      <td>0</td>\n",
       "      <td>0</td>\n",
       "    </tr>\n",
       "    <tr>\n",
       "      <th>4</th>\n",
       "      <td>253</td>\n",
       "      <td>253</td>\n",
       "      <td>99</td>\n",
       "      <td>0</td>\n",
       "      <td>0</td>\n",
       "      <td>0</td>\n",
       "      <td>0</td>\n",
       "      <td>0</td>\n",
       "      <td>0</td>\n",
       "      <td>0</td>\n",
       "      <td>0</td>\n",
       "      <td>0</td>\n",
       "      <td>0</td>\n",
       "      <td>223</td>\n",
       "      <td>253</td>\n",
       "      <td>253</td>\n",
       "      <td>253</td>\n",
       "      <td>129</td>\n",
       "      <td>0</td>\n",
       "      <td>0</td>\n",
       "    </tr>\n",
       "  </tbody>\n",
       "</table>\n",
       "</div>"
      ],
      "text/plain": [
       "   pixel399  pixel400  pixel401  pixel402  pixel403  pixel404  pixel405  \\\n",
       "0         0         0         0         0        20       206       254   \n",
       "1       254       254        29         0         0         0         0   \n",
       "2         0         0         0         0         0         9       254   \n",
       "3         0        67       251        40         0         0         0   \n",
       "4       253       253        99         0         0         0         0   \n",
       "\n",
       "   pixel406  pixel407  pixel408  pixel409  pixel410  pixel411  pixel412  \\\n",
       "0       254       198         7         0         0         0         0   \n",
       "1         0         0         0         0         0        75       254   \n",
       "2       254       184         0         0         0         0         0   \n",
       "3         0         0         0         0        94       255        69   \n",
       "4         0         0         0         0         0         0       223   \n",
       "\n",
       "   pixel413  pixel414  pixel415  pixel416  pixel417  pixel418  \n",
       "0         0         0         0         0         0         0  \n",
       "1       254       254        17         0         0         0  \n",
       "2         0         0         0         0         0         0  \n",
       "3         0         0         0         0         0         0  \n",
       "4       253       253       253       129         0         0  "
      ]
     },
     "execution_count": 16,
     "metadata": {},
     "output_type": "execute_result"
    }
   ],
   "source": [
    "digits.iloc[0:5,400:420]"
   ]
  },
  {
   "cell_type": "markdown",
   "metadata": {},
   "source": [
    "### Frequency chart of digit labels"
   ]
  },
  {
   "cell_type": "code",
   "execution_count": 132,
   "metadata": {
    "collapsed": false
   },
   "outputs": [
    {
     "data": {
      "text/plain": [
       "<matplotlib.text.Text at 0x7f9a8834f5f8>"
      ]
     },
     "execution_count": 132,
     "metadata": {},
     "output_type": "execute_result"
    },
    {
     "data": {
      "image/png": "[encoded data removed]",
      "text/plain": [
       "<matplotlib.figure.Figure at 0x7f9a71cf6c88>"
      ]
     },
     "metadata": {},
     "output_type": "display_data"
    }
   ],
   "source": [
    "import collections\n",
    "import matplotlib.pyplot as plt\n",
    "%matplotlib inline\n",
    "\n",
    "label=digits['label'].tolist()\n",
    "histogram = collections.Counter(label)\n",
    "plt.bar(range(len(histogram)), histogram.values(), align=\"center\")\n",
    "plt.xticks(range(len(histogram)), list(histogram.keys()))\n",
    "plt.xlabel('Digit Labels')\n",
    "plt.ylabel('Frequency')"
   ]
  },
  {
   "cell_type": "markdown",
   "metadata": {},
   "source": [
    "## Analyses Run:\n",
    "\n",
    "Using the data set with no added jitter:\n",
    "\n",
    "Null\n",
    "\n",
    "Naive Bayes\n",
    "\n",
    "K-nearest neighbors:<br/>\n",
    "n_neighbors=5 <br/>\n",
    "For hyperparameter tuning, I used 10 fold cross validation maximizing accuracy score.\n",
    "\n",
    "Logistic Regression:<br/>\n",
    "C=.001<br/>\n",
    "For hyperparameter tuning, I used 10 fold cross validation maximizing accuracy score.\n",
    "\n",
    "Support Vector Classification, Gaussian Kernel:<br/>\n",
    "gamma=0.052, C=1<br/>\n",
    "For hyperparameter tuning, I used optunity, minimizing error rate.\n",
    "\n",
    "Linear Support Vector Classification:<br/>\n",
    "C=2.15443469e-02<br/>\n",
    "For hyperparameter tuning, I used 10 fold cross validation maximizing accuracy score.\n",
    "\n",
    "Decision Tree:<br/>\n",
    "max_depth=100<br/>\n",
    "For hyperparameter tuning, I used 10 fold cross validation maximizing accuracy score.\n",
    "\n",
    "Bagged Decision Tree:<br/>\n",
    "n_estimators=100<br/>\n",
    "For hyperparameter tuning, I used 10 fold cross validation and the value of n_estimators that the accuracy score leveled off at.\n",
    "\n",
    "Random Forest:<br/>\n",
    "max_features=100, n_estimators=100<br/>\n",
    "For hyperparameter tuning, I used 10 fold cross validation maximizing accuracy score for max_features, and he value of n_estimators that the accuracy score leveled off at.\n",
    "\n",
    "Bernoulli Restricted Boltzmann Machine:<br/>\n",
    "learning_rate=4.255, n_iter=78, n_components=50, C=.001\n",
    "For hyperparameter tuning, I used optunity, minimizing error rate for learning_rate and n_iter.  Accuracy increases as n_components, so I picked the highest n_components I had time to run.\n",
    "\n",
    "Using data set with added jitter:\n"
   ]
  },
  {
   "cell_type": "markdown",
   "metadata": {},
   "source": [
    "## Results"
   ]
  },
  {
   "cell_type": "code",
   "execution_count": 135,
   "metadata": {
    "collapsed": false
   },
   "outputs": [
    {
     "name": "stdout",
     "output_type": "stream",
     "text": [
      "Accuracy score is the number of labels correctly predicted based on the pixels divided\n",
      " by the total number of labels predicted.\n",
      "\n",
      "Null Model Accuracy Score: 0.1\n",
      "Null Model Duration: 0.02741527557373047\n",
      "Naive Bayes Accuracy Score: 0.827841817437\n",
      "Naive Bayes Duration: 0.6535942554473877\n",
      "K-nearest Neighbors Accuracy Score: 0.929401699992\n",
      "KNN Hyperparameter Optimization Duration: 2307.7942476272583\n",
      "KNN Model Duration: 45.65759992599487\n",
      "KNN Total Duration: 2353.451847553253\n",
      "Logistic Regression Accuracy Score: 0.863827482377\n",
      "Logistic Regression Hyperparameter Optimization Duration: 3166.087608575821\n",
      "Logistic Regression Model Duration: 102.44446992874146\n",
      "Logistic Regression Total Duration: 3268.5320785045624\n",
      "Gaussian SVC Accuracy Score: 0.953814050166\n",
      "Gaussian SVC Hyperparameter Optimization Duration: 4386.42329955101\n",
      "Gaussian SVC Model Duration: 319.96739625930786\n",
      "Gaussian SVC Total Duration: 4706.390695810318\n",
      "Linear SVC Accuracy Score: 0.897190690367\n",
      "Linear SVC Hyperparameter Optimization Duration: 68.53781414031982\n",
      "Linear SVC Model Duration: 4.351959228515625\n",
      "Linear SVC Total Duration: 72.88977336883545\n",
      "Decision Tree Accuracy Score: 0.771050470961\n",
      "Decision Tree Hyperparameter Optimization Duration: 37.199970960617065\n",
      "Decision Tree Model Duration: 9.072616577148438\n",
      "Decision Tree Total Duration: 46.2725875377655\n",
      "Bagged Decision Tree Accuracy Score: 0.915208675737\n",
      "Bagged Decision Tree Hyperparameter Optimization Duration: 5709.231367349625\n",
      "Bagged Decision Tree Model Duration: 543.9013814926147\n",
      "Bagged Decision Tree Total Duration: 6253.132748842239\n",
      "Random Forest Accuracy Score: 0.933596569359\n",
      "Random Forest Hyperparameter Optimization Duration: 2165.058267354965\n",
      "Random Forest Model Duration: 74.87897849082947\n",
      "Random Forest Total Duration: 2239.9372458457947\n",
      "Bernoulli Restricted Boltzmann Machine Accuracy Score: 0.111600591251\n",
      "Bernoulli Restricted Boltzmann Machine Hyperparameter Optimization Duration: 1725.9025752544403\n",
      "Bernoulli Restricted Boltzmann Machine Model Duration: 715.3267538547516\n",
      "Bernoulli Restricted Boltzmann Machine Total Duration: 2441.229329109192\n",
      "Jittered Data Naive Bayes Accuracy Score: 0.777356209508\n",
      "Jittered Data Naive Bayes Duration: 2.4231016635894775\n"
     ]
    }
   ],
   "source": [
    "print ('Accuracy score is the number of labels correctly predicted based on the pixels divided\\n by the total number of labels predicted.\\n')\n",
    "\n",
    "print ('Null Model Accuracy Score: ' + str(null.mean()))\n",
    "print ('Null Model Duration: ' + str(null_time))\n",
    "\n",
    "print ('Naive Bayes Accuracy Score: ' + str(nbscores.mean()))\n",
    "print ('Naive Bayes Duration: ' + str(nbtime_f))\n",
    "\n",
    "print ('K-nearest Neighbors Accuracy Score: ' + str(knnscores.mean()))\n",
    "print ('KNN Hyperparameter Optimization Duration: ' +str(k_p_time_f))\n",
    "print ('KNN Model Duration: ' +str(k_m_time))\n",
    "print ('KNN Total Duration: ' +str(k_time))\n",
    "\n",
    "print ('Logistic Regression Accuracy Score: ' + str(logscores.mean()))\n",
    "print ('Logistic Regression Hyperparameter Optimization Duration: ' +str(log_p_time))\n",
    "print ('Logistic Regression Model Duration: ' +str(log_m_time))\n",
    "print ('Logistic Regression Total Duration: ' +str(log_time))\n",
    "\n",
    "print ('Gaussian SVC Accuracy Score: ' + str(svcgscores.mean()))\n",
    "print ('Gaussian SVC Hyperparameter Optimization Duration: ' +str(svcg_p_time))\n",
    "print ('Gaussian SVC Model Duration: ' +str(svcg_m_time))\n",
    "print ('Gaussian SVC Total Duration: ' +str(svcg_time))\n",
    "\n",
    "print ('Linear SVC Accuracy Score: ' + str(linearscores.mean()))\n",
    "print ('Linear SVC Hyperparameter Optimization Duration: ' +str(svcl_p_time))\n",
    "print ('Linear SVC Model Duration: ' +str(svcl_m_time))\n",
    "print ('Linear SVC Total Duration: ' +str(svcl_time))\n",
    "\n",
    "print ('Decision Tree Accuracy Score: ' + str(treescores.mean()))\n",
    "print ('Decision Tree Hyperparameter Optimization Duration: ' +str(tree_p_time))\n",
    "print ('Decision Tree Model Duration: ' +str(tree_m_time))\n",
    "print ('Decision Tree Total Duration: ' +str(tree_time))\n",
    "\n",
    "print ('Bagged Decision Tree Accuracy Score: ' + str(bagscores.mean()))\n",
    "print ('Bagged Decision Tree Hyperparameter Optimization Duration: ' +str(bag_p_time))\n",
    "print ('Bagged Decision Tree Model Duration: ' +str(bag_m_time))\n",
    "print ('Bagged Decision Tree Total Duration: ' +str(bag_time))\n",
    "\n",
    "print ('Random Forest Accuracy Score: ' + str(rfscores.mean()))\n",
    "print ('Random Forest Hyperparameter Optimization Duration: ' +str(rf_p1_time+rf_p2_time))\n",
    "print ('Random Forest Model Duration: ' +str(rf_m_time))\n",
    "print ('Random Forest Total Duration: ' +str(rf_time))\n",
    "\n",
    "print ('Bernoulli Restricted Boltzmann Machine Accuracy Score: ' + str(classifier_score.mean()))\n",
    "print ('Bernoulli Restricted Boltzmann Machine Hyperparameter Optimization Duration: ' +str(rbm_p1_time))\n",
    "print ('Bernoulli Restricted Boltzmann Machine Model Duration: ' +str(rbm_m_time))\n",
    "print ('Bernoulli Restricted Boltzmann Machine Total Duration: ' +str(rbm_time))\n",
    "\n",
    "print ('Jittered Data Naive Bayes Accuracy Score: ' + str(nb_accuracy))\n",
    "print ('Jittered Data Naive Bayes Duration: ' + str(nbtime_jitter))"
   ]
  },
  {
   "cell_type": "markdown",
   "metadata": {},
   "source": [
    "## Conclusions"
   ]
  },
  {
   "cell_type": "markdown",
   "metadata": {},
   "source": [
    "The top three accuracy scores without jitter were: <br/>\n",
    "Gaussian SVC Accuracy Score: 0.953814050166<br/>\n",
    "Random Forest Accuracy Score: 0.933596569359<br/>\n",
    "K-nearest Neighbors Accuracy Score: 0.929401699992\n",
    "\n",
    "The worst accuracy score by far was the RBM neural network model, which I would strongly suspect is due to poor hyperparameters.  I was experimenting with using optunity to optimize two hyperparameters at once, but in the case of RBM, it took so long to run that I wasn't able to run the optimization program as long as would probably have been ideal.  I think in this case, a better decision would be to optimize each hypreparameter separately, just for efficiency reasons.\n",
    "\n",
    "For processing time reasons, the only classification method I tried with the jittered data was Naive Bayes, which actually got worse:\n",
    "\n",
    "Naive Bayes Accuracy Score: 0.827841817437<br/>\n",
    "Jittered Data Naive Bayes Accuracy Score: 0.777356209508"
   ]
  },
  {
   "cell_type": "markdown",
   "metadata": {
    "collapsed": true
   },
   "source": [
    "## Data processing"
   ]
  },
  {
   "cell_type": "code",
   "execution_count": 133,
   "metadata": {
    "collapsed": false
   },
   "outputs": [],
   "source": [
    "from sklearn.cross_validation import cross_val_score\n",
    "import matplotlib.pyplot as plt\n",
    "import numpy as np\n",
    "from sklearn import linear_model\n",
    "import time\n",
    "import optunity\n",
    "import optunity.metrics\n",
    "import warnings\n",
    "warnings.filterwarnings(\"ignore\", category=DeprecationWarning)\n",
    "\n",
    "\n",
    "pixels=digits.iloc[:,2:]\n",
    "pixels = np.asarray(pixels, 'float32')\n",
    "X = pixels/255.0"
   ]
  },
  {
   "cell_type": "markdown",
   "metadata": {},
   "source": [
    "## Null Model"
   ]
  },
  {
   "cell_type": "code",
   "execution_count": 72,
   "metadata": {
    "collapsed": false
   },
   "outputs": [],
   "source": [
    "start = time.time()\n",
    "\n",
    "from sklearn.cross_validation import train_test_split\n",
    "X_train, X_test, y_train, y_test = train_test_split(pixels, label, random_state=1)\n",
    "\n",
    "null = pd.Series(y_test).value_counts() / len(y_test)\n",
    "null.mean()\n",
    "\n",
    "end = time.time()\n",
    "null_time=end-start"
   ]
  },
  {
   "cell_type": "markdown",
   "metadata": {},
   "source": [
    "## Naive Bayes"
   ]
  },
  {
   "cell_type": "code",
   "execution_count": 134,
   "metadata": {
    "collapsed": false
   },
   "outputs": [],
   "source": [
    "start = time.time()\n",
    "from sklearn.naive_bayes import MultinomialNB\n",
    "\n",
    "nb = MultinomialNB()\n",
    "nbscores = cross_val_score(nb, pixels, label, cv=10, scoring='accuracy')\n",
    "nbscores\n",
    "end = time.time()\n",
    "nbtime_f=end-start"
   ]
  },
  {
   "cell_type": "markdown",
   "metadata": {},
   "source": [
    "## K-nearest Neighbors"
   ]
  },
  {
   "cell_type": "markdown",
   "metadata": {},
   "source": [
    "### Find optimal parameter value"
   ]
  },
  {
   "cell_type": "code",
   "execution_count": 21,
   "metadata": {
    "collapsed": false
   },
   "outputs": [
    {
     "name": "stdout",
     "output_type": "stream",
     "text": [
      "[0.93280424184329791, 0.91682480049446602, 0.92859479265949418, 0.92858570606147484, 0.92940169999161204, 0.92859449830722396, 0.9279871655506019, 0.92520150902943765, 0.92560922143629853, 0.92482046894834247, 0.92401234734176507, 0.92261464940734683, 0.92161746338643646, 0.91960771496134386, 0.91420430750349568, 0.91521400959465748, 0.91240743881998543, 0.91161699251123396, 0.90961853477944088, 0.909223341295054, 0.90701518316795604, 0.90641842219337221, 0.90642479021707723, 0.9072248678740028, 0.90561752410336216, 0.90381826805466403, 0.90221978612673692, 0.90201576981132037, 0.89981924712887518, 0.89822001007821051, 0.89681952246585372, 0.89641549991514025, 0.89620984468572407, 0.89342703895731024, 0.89162937797926944, 0.89242980928942595, 0.89104259541258579, 0.89182778891351089, 0.89203540292968275, 0.88963573958390119, 0.88982929894817209, 0.88923249918306069, 0.88863401712889556, 0.88743403029927548, 0.887032731103783, 0.88483465179248599, 0.88623272146511278, 0.8842305839437854, 0.88402172870406281]\n"
     ]
    }
   ],
   "source": [
    "start = time.time()\n",
    "from sklearn.neighbors import KNeighborsClassifier\n",
    "\n",
    "k_range = range(1, 50)\n",
    "k_scores = []\n",
    "for k in k_range:\n",
    "    knn = KNeighborsClassifier(n_neighbors=k)\n",
    "    scores = cross_val_score(knn, pixels, label, cv=10, scoring='accuracy')\n",
    "    k_scores.append(scores.mean())\n",
    "print (k_scores)\n",
    "end = time.time()\n",
    "k_p_time_f=end-start"
   ]
  },
  {
   "cell_type": "code",
   "execution_count": 22,
   "metadata": {
    "collapsed": false
   },
   "outputs": [
    {
     "data": {
      "text/plain": [
       "<matplotlib.text.Text at 0x7f9a79142a90>"
      ]
     },
     "execution_count": 22,
     "metadata": {},
     "output_type": "execute_result"
    },
    {
     "data": {
      "image/png": "[encoded data removed]",
      "text/plain": [
       "<matplotlib.figure.Figure at 0x7f9a98319f28>"
      ]
     },
     "metadata": {},
     "output_type": "display_data"
    }
   ],
   "source": [
    "%matplotlib inline\n",
    "\n",
    "plt.plot(k_range, k_scores)\n",
    "plt.xlabel('Value of K for KNN')\n",
    "plt.ylabel('Cross-Validated Accuracy')"
   ]
  },
  {
   "cell_type": "markdown",
   "metadata": {},
   "source": [
    "### 10-fold cross-validation with the best KNN model"
   ]
  },
  {
   "cell_type": "code",
   "execution_count": 24,
   "metadata": {
    "collapsed": false
   },
   "outputs": [],
   "source": [
    "start = time.time()\n",
    "knn = KNeighborsClassifier(n_neighbors=5)\n",
    "knnscores = cross_val_score(knn, pixels, label, cv=10, scoring='accuracy')\n",
    "knnscores\n",
    "knnscores.mean()\n",
    "end = time.time()\n",
    "k_m_time=end-start\n",
    "k_time=k_p_time_f+k_m_time"
   ]
  },
  {
   "cell_type": "markdown",
   "metadata": {},
   "source": [
    "## Logistic Regression"
   ]
  },
  {
   "cell_type": "code",
   "execution_count": 43,
   "metadata": {
    "collapsed": false
   },
   "outputs": [
    {
     "name": "stdout",
     "output_type": "stream",
     "text": [
      "[0.87882703713317234, 0.86382748237714824, 0.84863082291234915, 0.83343906449529237, 0.82043764562586108, 0.81902591729125773, 0.8174358494337095, 0.81803671086872798, 0.81763026185485432]\n"
     ]
    }
   ],
   "source": [
    "start = time.time()\n",
    "from sklearn.linear_model import LogisticRegression\n",
    "c_range = [.0001,.001,.01, .1,1, 10, 100, 1000, 5000]\n",
    "c_scores = []\n",
    "for c in c_range:\n",
    "    logistic = linear_model.LogisticRegression(C=c)\n",
    "    scores = cross_val_score(logistic, pixels, label, cv=10, scoring='accuracy')\n",
    "    c_scores.append(scores.mean())\n",
    "print (c_scores)\n",
    "end = time.time()\n",
    "log_p_time=end-start"
   ]
  },
  {
   "cell_type": "code",
   "execution_count": 44,
   "metadata": {
    "collapsed": false
   },
   "outputs": [],
   "source": [
    "start = time.time()\n",
    "logistic = linear_model.LogisticRegression(C=.001)\n",
    "logscores = cross_val_score(logistic, pixels, label, cv=10, scoring='accuracy')\n",
    "logscores\n",
    "logscores.mean()\n",
    "end = time.time()\n",
    "log_m_time=end-start\n",
    "log_time=log_p_time+log_m_time"
   ]
  },
  {
   "cell_type": "markdown",
   "metadata": {},
   "source": [
    "## SVC Gaussian - one vs one"
   ]
  },
  {
   "cell_type": "markdown",
   "metadata": {},
   "source": [
    "One vs. one classification is a method that can be used to extend Support Vector Classification to support multiple classes (i.e. more than two classes).  It consists of n_classes * (n_classes - 1) / 2 classifier, one for each pair of classes.  During prediction, it predicts the label by which label was selected the most, amongst all the classification pairs."
   ]
  },
  {
   "cell_type": "markdown",
   "metadata": {},
   "source": [
    "### Find optimal parameter values"
   ]
  },
  {
   "cell_type": "markdown",
   "metadata": {},
   "source": [
    "I'm experimenting with using optunity to optimize two hyperparameters at once.  I'm using error rate instead of accuracy score to optimize the hyperparameters, since it is as close to accuracy score as I can get using optunity."
   ]
  },
  {
   "cell_type": "code",
   "execution_count": 53,
   "metadata": {
    "collapsed": false
   },
   "outputs": [
    {
     "name": "stdout",
     "output_type": "stream",
     "text": [
      "Optimal parameters: C=1.031, gamma=0.052\n",
      "Cross-validated error rate: 0.059\n"
     ]
    }
   ],
   "source": [
    "start=time.time()\n",
    "import random\n",
    "random.seed(1)\n",
    "import optunity\n",
    "import optunity.metrics\n",
    "import sklearn.svm\n",
    "from sklearn.cross_validation import train_test_split\n",
    "X_train, X_test, y_train, y_test = train_test_split(X, label, random_state=1234567)\n",
    "@optunity.cross_validated(x=X_train, y=y_train, num_folds=5)\n",
    "def svm_error_rate(x_train, y_train, x_test, y_test, C, gamma):\n",
    "    model =  sklearn.svm.SVC(C=C, gamma=gamma)\n",
    "    model.fit(x_train, y_train)\n",
    "    resp = model.predict(x_test)\n",
    "    error_rate = (y_test != resp).mean()\n",
    "    return error_rate\n",
    "optimal_parameters, details, _ = optunity.minimize(svm_error_rate, num_evals=50,\n",
    "                                                   C=[0, 5], gamma=[0, 1])\n",
    "print(\"Optimal parameters: C=%1.3f, gamma=%1.3f\" % (optimal_parameters['C'], optimal_parameters['gamma']))\n",
    "print(\"Cross-validated error rate: %1.3f\" % details.optimum)\n",
    "end = time.time()\n",
    "svcg_p_time=end-start"
   ]
  },
  {
   "cell_type": "code",
   "execution_count": 55,
   "metadata": {
    "collapsed": false
   },
   "outputs": [],
   "source": [
    "start = time.time()\n",
    "clf = sklearn.svm.SVC(gamma=0.052, C=1)\n",
    "svcgscores = cross_val_score(clf, X, label, cv=10, scoring='accuracy')\n",
    "svcgscores\n",
    "svcgscores.mean()\n",
    "end = time.time()\n",
    "svcg_m_time=end-start\n",
    "svcg_time=svcg_p_time+svcg_m_time"
   ]
  },
  {
   "cell_type": "markdown",
   "metadata": {},
   "source": [
    "## Linear SVC"
   ]
  },
  {
   "cell_type": "markdown",
   "metadata": {},
   "source": [
    "This uses one vs. all classification as the method to extend Support Vector Classification to support multiple classes. For each class (in this case for each digit), it classifies it as that one digit, vs all the rest of the digits."
   ]
  },
  {
   "cell_type": "code",
   "execution_count": 49,
   "metadata": {
    "collapsed": false
   },
   "outputs": [
    {
     "name": "stdout",
     "output_type": "stream",
     "text": [
      "[0.89378529660885486, 0.89219400305942931, 0.86961291368599336, 0.84901183245542455, 0.84421332539522242, 0.84202330152380855, 0.84222450814638383, 0.84301530043872486, 0.84321042448823091, 0.84681790492617581, 0.84180999498361542, 0.84221284413515796, 0.84281639006057163]\n",
      "[  1.00000000e-02   1.00000000e-01   1.00000000e+00   1.00000000e+01\n",
      "   1.00000000e+02   1.00000000e+03   1.00000000e+04   1.00000000e+05\n",
      "   1.00000000e+06   1.00000000e+07   1.00000000e+08   1.00000000e+09\n",
      "   1.00000000e+10]\n"
     ]
    }
   ],
   "source": [
    "start = time.time()\n",
    "from sklearn.svm import LinearSVC\n",
    "C_range = np.logspace(-2, 10, 13)\n",
    "C_scores = []\n",
    "for c in C_range:\n",
    "    linear = LinearSVC(C=c)\n",
    "    scores = cross_val_score(linear, X, label, cv=10, scoring='accuracy')\n",
    "    C_scores.append(scores.mean())\n",
    "print (C_scores)\n",
    "print (C_range)\n",
    "end = time.time()\n",
    "svcl_p_time=end-start"
   ]
  },
  {
   "cell_type": "code",
   "execution_count": 50,
   "metadata": {
    "collapsed": false
   },
   "outputs": [
    {
     "name": "stdout",
     "output_type": "stream",
     "text": [
      "[0.77259237314316775, 0.80240858776369228, 0.838029149217842, 0.86679556647091327, 0.88638248589725266, 0.89438330350984052, 0.89719069036721422, 0.89459091883480846, 0.88019094372715156, 0.87041494669808728]\n",
      "[  1.00000000e-05   3.59381366e-05   1.29154967e-04   4.64158883e-04\n",
      "   1.66810054e-03   5.99484250e-03   2.15443469e-02   7.74263683e-02\n",
      "   2.78255940e-01   1.00000000e+00]\n"
     ]
    }
   ],
   "source": [
    "start = time.time()\n",
    "from sklearn.svm import LinearSVC\n",
    "C_range = np.logspace(-5, 0, 10)\n",
    "C_scores = []\n",
    "for c in C_range:\n",
    "    linear = LinearSVC(C=c)\n",
    "    scores = cross_val_score(linear, X, label, cv=10, scoring='accuracy')\n",
    "    C_scores.append(scores.mean())\n",
    "print (C_scores)\n",
    "print (C_range)\n",
    "end = time.time()\n",
    "svcl_p_time=end-start"
   ]
  },
  {
   "cell_type": "code",
   "execution_count": 51,
   "metadata": {
    "collapsed": false,
    "scrolled": true
   },
   "outputs": [],
   "source": [
    "start = time.time()\n",
    "from sklearn.svm import LinearSVC\n",
    "linear = LinearSVC(C=2.15443469e-02)\n",
    "linearscores = cross_val_score(linear, X, label, cv=10, scoring='accuracy')\n",
    "linearscores\n",
    "linearscores.mean()\n",
    "end = time.time()\n",
    "svcl_m_time=end-start\n",
    "svcl_time=svcl_p_time+svcl_m_time"
   ]
  },
  {
   "cell_type": "markdown",
   "metadata": {},
   "source": [
    "## Decision Tree"
   ]
  },
  {
   "cell_type": "markdown",
   "metadata": {},
   "source": [
    "### Find optimal parameter value"
   ]
  },
  {
   "cell_type": "code",
   "execution_count": 26,
   "metadata": {
    "collapsed": false
   },
   "outputs": [
    {
     "name": "stdout",
     "output_type": "stream",
     "text": [
      "[0.19019279282174031, 0.77223915923539688, 0.76464168570703694, 0.76606914335472986, 0.76381906834278612]\n"
     ]
    }
   ],
   "source": [
    "start = time.time()\n",
    "from sklearn.tree import DecisionTreeClassifier\n",
    "\n",
    "depth_range = range(1, 501, 100)\n",
    "depth_scores = []\n",
    "for d in depth_range:\n",
    "    dclf = DecisionTreeClassifier(max_depth=d)\n",
    "    scores = cross_val_score(dclf, pixels, label, cv=10, scoring='accuracy')\n",
    "    depth_scores.append(scores.mean())\n",
    "print (depth_scores)\n",
    "end = time.time()\n",
    "tree_p_time=end-start"
   ]
  },
  {
   "cell_type": "code",
   "execution_count": 27,
   "metadata": {
    "collapsed": false
   },
   "outputs": [
    {
     "data": {
      "text/plain": [
       "<matplotlib.text.Text at 0x7f9a71ece080>"
      ]
     },
     "execution_count": 27,
     "metadata": {},
     "output_type": "execute_result"
    },
    {
     "data": {
      "image/png": "[encoded data removed]",
      "text/plain": [
       "<matplotlib.figure.Figure at 0x7f9a71cf6d30>"
      ]
     },
     "metadata": {},
     "output_type": "display_data"
    }
   ],
   "source": [
    "%matplotlib inline\n",
    "\n",
    "plt.plot(depth_range, depth_scores)\n",
    "plt.xlabel('Value of max_depth for Decision Tree Classification')\n",
    "plt.ylabel('Cross-Validated Accuracy')"
   ]
  },
  {
   "cell_type": "markdown",
   "metadata": {},
   "source": [
    "### 10-fold cross-validation with the best Decision Tree model"
   ]
  },
  {
   "cell_type": "code",
   "execution_count": 29,
   "metadata": {
    "collapsed": false
   },
   "outputs": [],
   "source": [
    "start = time.time()\n",
    "treeclf = DecisionTreeClassifier(max_depth=100, random_state=1) \n",
    "treescores = cross_val_score(treeclf, pixels, label, cv=10, scoring='accuracy')\n",
    "treescores\n",
    "treescores.mean()\n",
    "end = time.time()\n",
    "tree_m_time=end-start\n",
    "tree_time=tree_p_time+tree_m_time"
   ]
  },
  {
   "cell_type": "markdown",
   "metadata": {},
   "source": [
    "## Bagged Decision Tree"
   ]
  },
  {
   "cell_type": "markdown",
   "metadata": {},
   "source": [
    "### Find optimal parameter value"
   ]
  },
  {
   "cell_type": "code",
   "execution_count": 31,
   "metadata": {
    "collapsed": false
   },
   "outputs": [
    {
     "name": "stdout",
     "output_type": "stream",
     "text": [
      "[0.87540266169265668, 0.91660312210825834, 0.91860840832202462, 0.91841121459252084, 0.91880314633090376]\n"
     ]
    }
   ],
   "source": [
    "start = time.time()\n",
    "from sklearn.ensemble import BaggingClassifier\n",
    "\n",
    "potential_n = range(10, 510, 100)\n",
    "bag_scores = []\n",
    "for n in potential_n:\n",
    "    bagclass = BaggingClassifier(treeclf,n_estimators=n, random_state=1)\n",
    "    scores = cross_val_score(bagclass, pixels, label, cv=10, scoring='accuracy')\n",
    "    bag_scores.append(scores.mean())\n",
    "print (bag_scores)\n",
    "end = time.time()\n",
    "bag_p_time=end-start"
   ]
  },
  {
   "cell_type": "code",
   "execution_count": 32,
   "metadata": {
    "collapsed": false
   },
   "outputs": [
    {
     "data": {
      "text/plain": [
       "<matplotlib.text.Text at 0x7f9a80f8cf98>"
      ]
     },
     "execution_count": 32,
     "metadata": {},
     "output_type": "execute_result"
    },
    {
     "data": {
      "image/png": "[encoded data removed]",
      "text/plain": [
       "<matplotlib.figure.Figure at 0x7f9a71deacf8>"
      ]
     },
     "metadata": {},
     "output_type": "display_data"
    }
   ],
   "source": [
    "start = time.time()\n",
    "plt.plot(potential_n, bag_scores)\n",
    "plt.xlabel('n_estimators')\n",
    "plt.ylabel('Accuracy')"
   ]
  },
  {
   "cell_type": "markdown",
   "metadata": {},
   "source": [
    "### 10-fold cross-validation with the best Bagged Decision Tree model"
   ]
  },
  {
   "cell_type": "code",
   "execution_count": 33,
   "metadata": {
    "collapsed": false
   },
   "outputs": [],
   "source": [
    "start = time.time()\n",
    "bagging=BaggingClassifier(treeclf,n_estimators=100, random_state=1) #adjust later\n",
    "bagscores = cross_val_score(bagging, pixels, label, cv=10, scoring='accuracy')\n",
    "bagscores\n",
    "bagscores.mean()\n",
    "end = time.time()\n",
    "bag_m_time=end-start\n",
    "bag_time=bag_p_time+bag_m_time"
   ]
  },
  {
   "cell_type": "markdown",
   "metadata": {},
   "source": [
    "## Random Forest Classification"
   ]
  },
  {
   "cell_type": "markdown",
   "metadata": {},
   "source": [
    "### Find optimal parameter values"
   ]
  },
  {
   "cell_type": "markdown",
   "metadata": {},
   "source": [
    "### n_estimators:"
   ]
  },
  {
   "cell_type": "code",
   "execution_count": 35,
   "metadata": {
    "collapsed": false
   },
   "outputs": [
    {
     "name": "stdout",
     "output_type": "stream",
     "text": [
      "[0.87740143112623348, 0.9366181124611529, 0.94022021944236334, 0.93861699043582747, 0.93841012645055033]\n"
     ]
    }
   ],
   "source": [
    "start = time.time()\n",
    "from sklearn.ensemble import RandomForestClassifier\n",
    "\n",
    "potential_n = range(10, 510, 100)\n",
    "forest_scores = []\n",
    "for n in potential_n:\n",
    "    rfclass = RandomForestClassifier(n_estimators=n, random_state=1)\n",
    "    scores = cross_val_score(rfclass, pixels, label, cv=10, scoring='accuracy')\n",
    "    forest_scores.append(scores.mean())\n",
    "print (forest_scores)\n",
    "end = time.time()\n",
    "rf_p1_time=end-start"
   ]
  },
  {
   "cell_type": "code",
   "execution_count": 36,
   "metadata": {
    "collapsed": false
   },
   "outputs": [
    {
     "data": {
      "text/plain": [
       "<matplotlib.text.Text at 0x7f9a80f411d0>"
      ]
     },
     "execution_count": 36,
     "metadata": {},
     "output_type": "execute_result"
    },
    {
     "data": {
      "image/png": "[encoded data removed]",
      "text/plain": [
       "<matplotlib.figure.Figure at 0x7f9a80f498d0>"
      ]
     },
     "metadata": {},
     "output_type": "display_data"
    }
   ],
   "source": [
    "plt.plot(potential_n, forest_scores)\n",
    "plt.xlabel('n_estimators')\n",
    "plt.ylabel('Accuracy')"
   ]
  },
  {
   "cell_type": "markdown",
   "metadata": {},
   "source": [
    "### Max Features:"
   ]
  },
  {
   "cell_type": "code",
   "execution_count": 38,
   "metadata": {
    "collapsed": false
   },
   "outputs": [
    {
     "name": "stdout",
     "output_type": "stream",
     "text": [
      "[0.92202256749311662, 0.9344196324911207, 0.93320945244532005, 0.92680637659875686, 0.92501757430376141, 0.9260099292248547, 0.92180814473895223, 0.9160162997139274]\n"
     ]
    }
   ],
   "source": [
    "start = time.time()\n",
    "feature_range = range(1, 785, 100)\n",
    "forest_scores = []\n",
    "for feature in feature_range:\n",
    "    rfclass = RandomForestClassifier(n_estimators=100, max_features=feature, random_state=1)\n",
    "    scores = cross_val_score(rfclass, pixels, label, cv=10, scoring='accuracy')\n",
    "    forest_scores.append(scores.mean())\n",
    "print (forest_scores)\n",
    "end = time.time()\n",
    "rf_p2_time=end-start"
   ]
  },
  {
   "cell_type": "code",
   "execution_count": 40,
   "metadata": {
    "collapsed": false
   },
   "outputs": [
    {
     "data": {
      "text/plain": [
       "<matplotlib.text.Text at 0x7f9a71fc5eb8>"
      ]
     },
     "execution_count": 40,
     "metadata": {},
     "output_type": "execute_result"
    },
    {
     "data": {
      "image/png": "[encoded data removed]",
      "text/plain": [
       "<matplotlib.figure.Figure at 0x7f9aae2ccba8>"
      ]
     },
     "metadata": {},
     "output_type": "display_data"
    }
   ],
   "source": [
    "plt.plot(feature_range, forest_scores)\n",
    "plt.xlabel('max_features')\n",
    "plt.ylabel('Accuracy')"
   ]
  },
  {
   "cell_type": "markdown",
   "metadata": {},
   "source": [
    "### 10-fold cross-validation with the best Random Forest model"
   ]
  },
  {
   "cell_type": "code",
   "execution_count": 41,
   "metadata": {
    "collapsed": false
   },
   "outputs": [],
   "source": [
    "start = time.time()\n",
    "rfclass=RandomForestClassifier(n_estimators=100, max_features=100, random_state=1)\n",
    "rfscores = cross_val_score(rfclass, pixels, label, cv=10, scoring='accuracy')\n",
    "rfscores\n",
    "rfscores.mean()\n",
    "end = time.time()\n",
    "rf_m_time=end-start\n",
    "rf_time=rf_p1_time+rf_p2_time+rf_m_time"
   ]
  },
  {
   "cell_type": "markdown",
   "metadata": {
    "collapsed": false
   },
   "source": [
    "## Bernoulli Restricted Boltzmann Machine (RBM)"
   ]
  },
  {
   "cell_type": "markdown",
   "metadata": {
    "collapsed": true
   },
   "source": [
    "This is a form of neural network machine learning where the inputs are either 0 and 1, or a proportion that represents the probability that something exists.  So this method works well for cases like the digit dataset, where there are characters to detects, but would perform poorly if the image were colorful and complex."
   ]
  },
  {
   "cell_type": "markdown",
   "metadata": {},
   "source": [
    "### Define the models"
   ]
  },
  {
   "cell_type": "markdown",
   "metadata": {},
   "source": [
    "In this case, I'm using logistic regression as the function in the neural network hidden layer."
   ]
  },
  {
   "cell_type": "code",
   "execution_count": 21,
   "metadata": {
    "collapsed": true
   },
   "outputs": [],
   "source": [
    "from sklearn.neural_network import BernoulliRBM\n",
    "from sklearn.pipeline import Pipeline\n",
    "\n",
    "logistic = linear_model.LogisticRegression()\n",
    "rbm = BernoulliRBM(random_state=0, verbose=True)\n",
    "\n",
    "classifier = Pipeline(steps=[('rbm', rbm), ('logistic', logistic)])"
   ]
  },
  {
   "cell_type": "markdown",
   "metadata": {},
   "source": [
    "### Find optimal hyper-parameters"
   ]
  },
  {
   "cell_type": "code",
   "execution_count": 57,
   "metadata": {
    "collapsed": false,
    "scrolled": true
   },
   "outputs": [
    {
     "name": "stdout",
     "output_type": "stream",
     "text": [
      "[BernoulliRBM] Iteration 1, pseudo-likelihood = -141.05, time = 2.86s\n",
      "[BernoulliRBM] Iteration 2, pseudo-likelihood = -137.32, time = 3.18s\n",
      "[BernoulliRBM] Iteration 3, pseudo-likelihood = -116.81, time = 3.02s\n",
      "[BernoulliRBM] Iteration 4, pseudo-likelihood = -108.64, time = 3.02s\n",
      "[BernoulliRBM] Iteration 5, pseudo-likelihood = -99.19, time = 3.02s\n",
      "[BernoulliRBM] Iteration 6, pseudo-likelihood = -104.82, time = 3.22s\n",
      "[BernoulliRBM] Iteration 7, pseudo-likelihood = -102.05, time = 3.28s\n",
      "[BernoulliRBM] Iteration 8, pseudo-likelihood = -97.95, time = 3.47s\n",
      "[BernoulliRBM] Iteration 9, pseudo-likelihood = -100.09, time = 3.15s\n",
      "[BernoulliRBM] Iteration 10, pseudo-likelihood = -99.39, time = 3.52s\n",
      "[BernoulliRBM] Iteration 1, pseudo-likelihood = -150.80, time = 2.86s\n",
      "[BernoulliRBM] Iteration 2, pseudo-likelihood = -139.27, time = 3.01s\n",
      "[BernoulliRBM] Iteration 3, pseudo-likelihood = -116.70, time = 3.04s\n",
      "[BernoulliRBM] Iteration 4, pseudo-likelihood = -128.61, time = 3.17s\n",
      "[BernoulliRBM] Iteration 5, pseudo-likelihood = -111.17, time = 3.41s\n",
      "[BernoulliRBM] Iteration 6, pseudo-likelihood = -116.24, time = 3.03s\n",
      "[BernoulliRBM] Iteration 7, pseudo-likelihood = -108.03, time = 3.01s\n",
      "[BernoulliRBM] Iteration 8, pseudo-likelihood = -101.03, time = 3.01s\n",
      "[BernoulliRBM] Iteration 9, pseudo-likelihood = -99.70, time = 3.03s\n",
      "[BernoulliRBM] Iteration 10, pseudo-likelihood = -99.09, time = 3.02s\n",
      "[BernoulliRBM] Iteration 1, pseudo-likelihood = -170.07, time = 3.24s\n",
      "[BernoulliRBM] Iteration 2, pseudo-likelihood = -137.41, time = 3.25s\n",
      "[BernoulliRBM] Iteration 3, pseudo-likelihood = -119.83, time = 3.42s\n",
      "[BernoulliRBM] Iteration 4, pseudo-likelihood = -116.34, time = 3.51s\n",
      "[BernoulliRBM] Iteration 5, pseudo-likelihood = -109.52, time = 3.45s\n",
      "[BernoulliRBM] Iteration 6, pseudo-likelihood = -107.60, time = 3.54s\n",
      "[BernoulliRBM] Iteration 7, pseudo-likelihood = -106.51, time = 3.09s\n",
      "[BernoulliRBM] Iteration 8, pseudo-likelihood = -102.20, time = 3.19s\n",
      "[BernoulliRBM] Iteration 9, pseudo-likelihood = -101.11, time = 3.10s\n",
      "[BernoulliRBM] Iteration 10, pseudo-likelihood = -97.49, time = 3.01s\n",
      "[BernoulliRBM] Iteration 1, pseudo-likelihood = -153.87, time = 2.85s\n",
      "[BernoulliRBM] Iteration 2, pseudo-likelihood = -127.09, time = 3.13s\n",
      "[BernoulliRBM] Iteration 3, pseudo-likelihood = -125.07, time = 3.19s\n",
      "[BernoulliRBM] Iteration 4, pseudo-likelihood = -123.99, time = 3.11s\n",
      "[BernoulliRBM] Iteration 5, pseudo-likelihood = -111.68, time = 3.10s\n",
      "[BernoulliRBM] Iteration 6, pseudo-likelihood = -105.10, time = 3.08s\n",
      "[BernoulliRBM] Iteration 7, pseudo-likelihood = -102.82, time = 2.99s\n",
      "[BernoulliRBM] Iteration 8, pseudo-likelihood = -105.39, time = 3.02s\n",
      "[BernoulliRBM] Iteration 9, pseudo-likelihood = -99.98, time = 3.01s\n",
      "[BernoulliRBM] Iteration 10, pseudo-likelihood = -95.97, time = 2.99s\n",
      "[BernoulliRBM] Iteration 1, pseudo-likelihood = -152.19, time = 2.81s\n",
      "[BernoulliRBM] Iteration 2, pseudo-likelihood = -123.75, time = 3.11s\n",
      "[BernoulliRBM] Iteration 3, pseudo-likelihood = -117.46, time = 3.11s\n",
      "[BernoulliRBM] Iteration 4, pseudo-likelihood = -109.48, time = 3.16s\n",
      "[BernoulliRBM] Iteration 5, pseudo-likelihood = -108.26, time = 3.14s\n",
      "[BernoulliRBM] Iteration 6, pseudo-likelihood = -100.98, time = 3.08s\n",
      "[BernoulliRBM] Iteration 7, pseudo-likelihood = -102.47, time = 3.12s\n",
      "[BernoulliRBM] Iteration 8, pseudo-likelihood = -100.69, time = 3.07s\n",
      "[BernoulliRBM] Iteration 9, pseudo-likelihood = -93.32, time = 3.16s\n",
      "[BernoulliRBM] Iteration 10, pseudo-likelihood = -92.39, time = 3.13s\n",
      "Optimal parameters: n_iter=77.881, learning_rate=4.255\n",
      "Cross-validated error rate: 0.077\n"
     ]
    }
   ],
   "source": [
    "start=time.time()\n",
    "from sklearn.neural_network import BernoulliRBM\n",
    "from sklearn.pipeline import Pipeline\n",
    "\n",
    "logistic = linear_model.LogisticRegression()\n",
    "rbm = BernoulliRBM(random_state=0, verbose=True)\n",
    "\n",
    "classifier = Pipeline(steps=[('rbm', rbm), ('logistic', logistic)])\n",
    "from sklearn.cross_validation import train_test_split\n",
    "X_train, X_test, y_train, y_test = train_test_split(X, label, random_state=1234567)\n",
    "@optunity.cross_validated(x=X_train, y=y_train, num_folds=5)\n",
    "def rbm_error_rate(x_train, y_train, x_test, y_test, n_iter, learning_rate):\n",
    "    rbm = BernoulliRBM(random_state=0, learning_rate=learning_rate, n_iter=n_iter)\n",
    "    model =  classifier\n",
    "    model.fit(x_train, y_train)\n",
    "    resp = model.predict(x_test)\n",
    "    error_rate = (y_test != resp).mean()\n",
    "    return error_rate\n",
    "optimal_parameters, details, _ = optunity.minimize(rbm_error_rate, num_evals=10,\n",
    "                                                   n_iter=[0, 500], learning_rate=[0, 5])\n",
    "print(\"Optimal parameters: n_iter=%1.3f, learning_rate=%1.3f\" % (optimal_parameters['n_iter'], optimal_parameters['learning_rate']))\n",
    "print(\"Cross-validated error rate: %1.3f\" % details.optimum)\n",
    "end = time.time()\n",
    "rbm_p1_time=end-start"
   ]
  },
  {
   "cell_type": "code",
   "execution_count": 67,
   "metadata": {
    "collapsed": false
   },
   "outputs": [
    {
     "name": "stdout",
     "output_type": "stream",
     "text": [
      "0.111600591251\n"
     ]
    }
   ],
   "source": [
    "start=time.time()\n",
    "logistic = linear_model.LogisticRegression(C=.001)\n",
    "rbm = BernoulliRBM(random_state=1, learning_rate=4.255, n_iter=78, n_components=50)\n",
    "\n",
    "classifier = Pipeline(steps=[('rbm', rbm), ('logistic', logistic)])\n",
    "\n",
    "classifier_score=cross_val_score(classifier, X, label, cv=10, scoring='accuracy')\n",
    "print (classifier_score.mean())\n",
    "end = time.time()\n",
    "rbm_m_time=end-start\n",
    "rbm_time=rbm_p1_time+rbm_m_time"
   ]
  },
  {
   "cell_type": "markdown",
   "metadata": {
    "collapsed": true
   },
   "source": [
    "## Submit Solution to Kaggle\n",
    "\n",
    "I will run this later, when I have time to run the whole training data set, but here is the code."
   ]
  },
  {
   "cell_type": "code",
   "execution_count": null,
   "metadata": {
    "collapsed": true
   },
   "outputs": [],
   "source": [
    "import pandas as pd\n",
    "\n",
    "digits_train <- pd.read_csv(\".../train.csv\")\n",
    "digits_test <- pd.read_csv(\".../test.csv\")\n",
    "\n",
    "from sklearn.cross_validation import cross_val_score\n",
    "import matplotlib.pyplot as plt\n",
    "import numpy as np\n",
    "\n",
    "label_train=digits_train['label'].tolist()\n",
    "pixels=digits_train.iloc[:,2:]\n",
    "pixels = np.asarray(pixels, 'float32')\n",
    "X_train = pixels/255.0\n",
    "X_test = np.asarray(digits_test, 'float32')/255.0\n",
    "#use best method and training set to find hyperparameters and train model\n",
    "# Pretend we're using ann rbm for now:\n",
    "classifier.fit(X_train, label_train)\n",
    "predictions= np.asarray(classifier.predict(X_test))\n",
    "\n",
    "predictions.to_csv('/home/thyme/Stat Analytics/smalldigitstrain.csv') #change later\n"
   ]
  },
  {
   "cell_type": "markdown",
   "metadata": {},
   "source": [
    "## Jitter data set"
   ]
  },
  {
   "cell_type": "markdown",
   "metadata": {},
   "source": [
    "I'm using code from sklearn to increase the training data set and it's variability by slightly shifting the pixels in the images.  This will expand the data set from 5,000 to 25,000, so I just ran the fastest model (Naive Bayes)."
   ]
  },
  {
   "cell_type": "code",
   "execution_count": 93,
   "metadata": {
    "collapsed": false
   },
   "outputs": [],
   "source": [
    "import numpy as np\n",
    "import matplotlib.pyplot as plt\n",
    "\n",
    "from scipy.ndimage import convolve\n",
    "from sklearn import linear_model, datasets, metrics\n",
    "from sklearn.cross_validation import train_test_split\n",
    "from sklearn.neural_network import BernoulliRBM\n",
    "from sklearn.pipeline import Pipeline\n",
    "\n",
    "\n",
    "###############################################################################\n",
    "# Setting up\n",
    "\n",
    "def nudge_dataset(X, Y):\n",
    "    \"\"\"\n",
    "    This produces a dataset 5 times bigger than the original one,\n",
    "    by moving the 8x8 images in X around by 1px to left, right, down, up\n",
    "    \"\"\"\n",
    "    direction_vectors = [\n",
    "        [[0, 1, 0],\n",
    "         [0, 0, 0],\n",
    "         [0, 0, 0]],\n",
    "\n",
    "        [[0, 0, 0],\n",
    "         [1, 0, 0],\n",
    "         [0, 0, 0]],\n",
    "\n",
    "        [[0, 0, 0],\n",
    "         [0, 0, 1],\n",
    "         [0, 0, 0]],\n",
    "\n",
    "        [[0, 0, 0],\n",
    "         [0, 0, 0],\n",
    "         [0, 1, 0]]]\n",
    "\n",
    "    shift = lambda x, w: convolve(x.reshape((28, 28)), mode='constant',\n",
    "                                  weights=w).ravel()\n",
    "    X = np.concatenate([X] +\n",
    "                       [np.apply_along_axis(shift, 1, X, vector)\n",
    "                        for vector in direction_vectors])\n",
    "    Y = np.concatenate([Y for _ in range(5)], axis=0)\n",
    "    return X, Y"
   ]
  },
  {
   "cell_type": "code",
   "execution_count": 126,
   "metadata": {
    "collapsed": false
   },
   "outputs": [],
   "source": [
    "import pandas as pd\n",
    "digits=pd.read_csv('/home/thyme/Stat-504/Final_Project/train.csv')\n",
    "digits=digits.head(n=5000)\n",
    "pixels=digits.iloc[:,1:]\n",
    "pixels = np.asarray(pixels, 'float32')\n",
    "label=digits['label'].tolist()\n",
    "label=np.asarray(label, 'float32')\n",
    "pixels, label = nudge_dataset(pixels, label)\n",
    "X = pixels/255.0"
   ]
  },
  {
   "cell_type": "code",
   "execution_count": 127,
   "metadata": {
    "collapsed": false
   },
   "outputs": [],
   "source": [
    "start = time.time()\n",
    "from sklearn.naive_bayes import MultinomialNB\n",
    "\n",
    "nb = MultinomialNB()\n",
    "nbscores = cross_val_score(nb, pixels, label, cv=10, scoring='accuracy')\n",
    "nbscores\n",
    "nb_accuracy=nbscores.mean()\n",
    "end = time.time()\n",
    "nbtime_jitter=end-start"
   ]
  },
  {
   "cell_type": "markdown",
   "metadata": {},
   "source": [
    "## Next Steps\n",
    "\n",
    "-Add Convolutional Neural Nets.<br />\n",
    "-Run models with full training set. <br />\n",
    "-Pick best model and submit the Kaggle."
   ]
  }
 ],
 "metadata": {
  "kernelspec": {
   "display_name": "Python 3",
   "language": "python",
   "name": "python3"
  },
  "language_info": {
   "codemirror_mode": {
    "name": "ipython",
    "version": 3
   },
   "file_extension": ".py",
   "mimetype": "text/x-python",
   "name": "python",
   "nbconvert_exporter": "python",
   "pygments_lexer": "ipython3",
   "version": "3.5.0"
  }
 },
 "nbformat": 4,
 "nbformat_minor": 0
}
